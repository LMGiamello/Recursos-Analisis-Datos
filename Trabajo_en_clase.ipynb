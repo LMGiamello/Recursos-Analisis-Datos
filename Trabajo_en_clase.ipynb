{
  "nbformat": 4,
  "nbformat_minor": 0,
  "metadata": {
    "colab": {
      "provenance": [],
      "authorship_tag": "ABX9TyM2XmCCbjorBCeAr6OqkZUw",
      "include_colab_link": true
    },
    "kernelspec": {
      "name": "python3",
      "display_name": "Python 3"
    },
    "language_info": {
      "name": "python"
    }
  },
  "cells": [
    {
      "cell_type": "markdown",
      "metadata": {
        "id": "view-in-github",
        "colab_type": "text"
      },
      "source": [
        "<a href=\"https://colab.research.google.com/github/LMGiamello/Recursos-Analisis-Datos/blob/main/Trabajo_en_clase.ipynb\" target=\"_parent\"><img src=\"https://colab.research.google.com/assets/colab-badge.svg\" alt=\"Open In Colab\"/></a>"
      ]
    },
    {
      "cell_type": "markdown",
      "source": [
        "# Clase 5\n",
        "\n",
        "## Intro a Python"
      ],
      "metadata": {
        "id": "300mpnwuB35o"
      }
    },
    {
      "cell_type": "code",
      "execution_count": 25,
      "metadata": {
        "id": "rA0F5PZQqnK3",
        "colab": {
          "base_uri": "https://localhost:8080/"
        },
        "outputId": "df446960-b057-4ef3-b3ee-2a361c59f745"
      },
      "outputs": [
        {
          "output_type": "stream",
          "name": "stdout",
          "text": [
            "Hola desde Colab\n"
          ]
        }
      ],
      "source": [
        "print (\"Hola desde Colab\")"
      ]
    },
    {
      "cell_type": "markdown",
      "source": [
        "## IF ELSE ELIF\n",
        "\n",
        "Ejemplos en Pythom"
      ],
      "metadata": {
        "id": "LGukhUnxI_M8"
      }
    },
    {
      "cell_type": "markdown",
      "source": [
        "### Ejercicio 1.0\n",
        "Demostración utilización de if en Python"
      ],
      "metadata": {
        "id": "ZnneCBT5JnUY"
      }
    },
    {
      "cell_type": "code",
      "source": [
        "variable_de_prueba = 5\n",
        "\n",
        "if variable_de_prueba > 0: # Nuestro if pregunta a la variable de prueba si es mayor que 0\n",
        "  print(\"La venta dio ganancias\") # en caso de ser mayor que 0, se ejecuta el print"
      ],
      "metadata": {
        "colab": {
          "base_uri": "https://localhost:8080/"
        },
        "id": "zhl-4Zl3KFiQ",
        "outputId": "1510aba6-cfc3-4530-bd8a-ef90c077949d"
      },
      "execution_count": 26,
      "outputs": [
        {
          "output_type": "stream",
          "name": "stdout",
          "text": [
            "La venta dio ganancias\n"
          ]
        }
      ]
    },
    {
      "cell_type": "markdown",
      "source": [
        "### Ejercicio 1.1\n",
        "\n",
        "En este caso vamos a crear una variable edad, si esta es mayor o igual a 18 años imprimimos el msj \"Usted es mayor de edad\""
      ],
      "metadata": {
        "id": "1IFie8ZvOGd3"
      }
    },
    {
      "cell_type": "code",
      "source": [
        "variable_edad = 10\n",
        "mayoria_edad = 18\n",
        "\n",
        "if variable_edad >= 18:\n",
        "  print(\"Usted es mayor de edad\")"
      ],
      "metadata": {
        "id": "_yPtOaZxOZ50"
      },
      "execution_count": 27,
      "outputs": []
    },
    {
      "cell_type": "markdown",
      "source": [
        "### Ejercicio 1.2\n",
        "\n",
        "Usamos else cuando la persona no tiene la edad requerida, ej preguntamos si la persona tiene la edad mínima para votar"
      ],
      "metadata": {
        "id": "76R2J9R6O-rW"
      }
    },
    {
      "cell_type": "code",
      "source": [
        "edad_votante = 20\n",
        "edad_minima_votar = 16\n",
        "\n",
        "if edad_votante >= edad_minima_votar:\n",
        "  print(\"Usted puede votar\")\n",
        "else:\n",
        "  print(\"No tiene la edad para votar\")"
      ],
      "metadata": {
        "colab": {
          "base_uri": "https://localhost:8080/"
        },
        "id": "pUb4Rx8tPPNk",
        "outputId": "36d292f4-df94-4c82-cffa-c501ac1a0ccf"
      },
      "execution_count": 28,
      "outputs": [
        {
          "output_type": "stream",
          "name": "stdout",
          "text": [
            "Usted puede votar\n"
          ]
        }
      ]
    },
    {
      "cell_type": "code",
      "source": [
        "edad_votante = 4\n",
        "edad_minima_votar = 16\n",
        "\n",
        "if edad_votante >= edad_minima_votar:\n",
        "  print(\"Usted puede votar\")\n",
        "else:\n",
        "  print(\"No tiene la edad para votar\")"
      ],
      "metadata": {
        "colab": {
          "base_uri": "https://localhost:8080/"
        },
        "id": "gFaXKnttPvO3",
        "outputId": "4918a7c4-81a3-48c7-fe34-ab9967d88a89"
      },
      "execution_count": 29,
      "outputs": [
        {
          "output_type": "stream",
          "name": "stdout",
          "text": [
            "No tiene la edad para votar\n"
          ]
        }
      ]
    },
    {
      "cell_type": "markdown",
      "source": [
        "### Ejercicio 1.3\n",
        "\n",
        "if con booleanos"
      ],
      "metadata": {
        "id": "cYNzZwGTPzIo"
      }
    },
    {
      "cell_type": "code",
      "source": [
        "es_profesor = True\n",
        "\n",
        "if es_profesor == True:\n",
        "  print(\"Bienvenido profe a la clase\")\n",
        "else:\n",
        "  print(\"Bienvenido alumno\")"
      ],
      "metadata": {
        "colab": {
          "base_uri": "https://localhost:8080/"
        },
        "id": "8rg7ylUGP9Yt",
        "outputId": "946d23d6-b909-47f3-c0a8-6ae0a0ed0fea"
      },
      "execution_count": 30,
      "outputs": [
        {
          "output_type": "stream",
          "name": "stdout",
          "text": [
            "Bienvenido profe a la clase\n"
          ]
        }
      ]
    },
    {
      "cell_type": "code",
      "source": [
        "es_profesor = True\n",
        "\n",
        "if es_profesor:\n",
        "  print(\"Bienvenido profe a la clase\")\n",
        "else:\n",
        "  print(\"Bienvenido alumno\")"
      ],
      "metadata": {
        "colab": {
          "base_uri": "https://localhost:8080/"
        },
        "id": "UTC6_9D-QqWi",
        "outputId": "51c2e5e4-4e92-4f44-a410-0106c96cfe58"
      },
      "execution_count": 31,
      "outputs": [
        {
          "output_type": "stream",
          "name": "stdout",
          "text": [
            "Bienvenido profe a la clase\n"
          ]
        }
      ]
    },
    {
      "cell_type": "markdown",
      "source": [
        "### Ejercicio 1.4\n",
        "\n",
        "if con strings"
      ],
      "metadata": {
        "id": "TNmLH-otRuYJ"
      }
    },
    {
      "cell_type": "code",
      "source": [
        "pais1 = \"argentina\"\n",
        "pais2 = \"chile\"\n",
        "pais3 = \"Argentina\"\n",
        "\n",
        "\n",
        "if pais1 == pais2:\n",
        "  print(\"Los países son iguales\")\n",
        "else:\n",
        "  print(\"Los países son diferentes\")\n",
        "\n",
        "\n",
        "if pais1 == pais3:\n",
        "  print(\"Los países son iguales\")\n",
        "else:\n",
        "  print(\"Los países son diferentes\")\n"
      ],
      "metadata": {
        "colab": {
          "base_uri": "https://localhost:8080/"
        },
        "id": "Y-ZyFk7SR1k7",
        "outputId": "c48fe8b1-1c7e-4d1d-d44b-490e7e494902"
      },
      "execution_count": 32,
      "outputs": [
        {
          "output_type": "stream",
          "name": "stdout",
          "text": [
            "Los países son diferentes\n",
            "Los países son diferentes\n"
          ]
        }
      ]
    },
    {
      "cell_type": "markdown",
      "source": [
        "### Ejercicio 1.5\n",
        "\n",
        "Aplicar diferentes condiciones\n",
        "\n",
        "elif\n"
      ],
      "metadata": {
        "id": "qSp4I1YDSsXL"
      }
    },
    {
      "cell_type": "code",
      "source": [
        "animal = \"gato\"\n",
        "\n",
        "if animal == \"perro\": #Condicion if inicial\n",
        "    print(\"En esta veterinaria si atendemos perros\") #Ejecución código if\n",
        "elif animal == \"gato\": #Condición elif\n",
        "    print(\"En esta veterinaria si atendemos gatos\") #Ejecución código elif\n",
        "else:\n",
        "    print(\"En esta veterinaria solo atendemos perros y gatos\") #Ejecución código else"
      ],
      "metadata": {
        "colab": {
          "base_uri": "https://localhost:8080/"
        },
        "id": "eOjnrlj4S7uw",
        "outputId": "ec24a860-a415-47c1-ff40-de339ed0232b"
      },
      "execution_count": 33,
      "outputs": [
        {
          "output_type": "stream",
          "name": "stdout",
          "text": [
            "En esta veterinaria si atendemos gatos\n"
          ]
        }
      ]
    },
    {
      "cell_type": "code",
      "source": [
        "animal = \"rana\"\n",
        "\n",
        "if animal == \"perro\": #Condicion if inicial\n",
        "    print(\"En esta veterinaria si atendemos perros\") #Ejecución código if\n",
        "elif animal == \"gato\": #Condición elif\n",
        "    print(\"En esta veterinaria si atendemos gatos\") #Ejecución código elif\n",
        "else:\n",
        "    print(\"En esta veterinaria solo atendemos perros y gatos\") #Ejecución código else"
      ],
      "metadata": {
        "colab": {
          "base_uri": "https://localhost:8080/"
        },
        "id": "qacTzQWxT70M",
        "outputId": "466e349c-041b-4764-d51f-841a79012f31"
      },
      "execution_count": 34,
      "outputs": [
        {
          "output_type": "stream",
          "name": "stdout",
          "text": [
            "En esta veterinaria solo atendemos perros y gatos\n"
          ]
        }
      ]
    },
    {
      "cell_type": "markdown",
      "source": [
        "### Ejercicio 1.6\n",
        "\n",
        "varios elif"
      ],
      "metadata": {
        "id": "8rWHryf4TrvI"
      }
    },
    {
      "cell_type": "code",
      "source": [
        "color_primario = \"azul\"\n",
        "\n",
        "if color_primario == \"azul\": #Condicion if inicial\n",
        "    print(\"Color primario seleccionado: azul\")\n",
        "elif color_primario == \"rojo\": #Condición elif\n",
        "    print(\"Color primario seleccionado: rojo\")\n",
        "elif color_primario == \"amarillo\": #Condición elif\n",
        "    print(\"Color primario seleccionado: amarillo\")\n",
        "else:\n",
        "    print(\"No a seleccionado un color primario\") #Ejecución código else"
      ],
      "metadata": {
        "colab": {
          "base_uri": "https://localhost:8080/"
        },
        "id": "26hpf107TyNC",
        "outputId": "1f5b2607-360a-46e7-8ff8-2d2184c64308"
      },
      "execution_count": 35,
      "outputs": [
        {
          "output_type": "stream",
          "name": "stdout",
          "text": [
            "Color primario seleccionado: azul\n"
          ]
        }
      ]
    },
    {
      "cell_type": "code",
      "source": [
        "color_ingresado = \"rojo\"\n",
        "\n",
        "if color_ingresado == \"azul\":\n",
        "    print(\"Color primario seleccionado:\", color_ingresado)\n",
        "elif color_ingresado == \"rojo\":\n",
        "    print(\"Color primario seleccionado:\", color_ingresado)\n",
        "elif color_ingresado == \"amarillo\":\n",
        "    print(\"Color primario seleccionado:\", color_ingresado)\n",
        "else:\n",
        "    print(\"No ha seleccionado un color primario\")"
      ],
      "metadata": {
        "colab": {
          "base_uri": "https://localhost:8080/"
        },
        "id": "Bqfswxr2Ulkx",
        "outputId": "5b324c7b-cbfb-4a80-eb62-69ef18c85b83"
      },
      "execution_count": 36,
      "outputs": [
        {
          "output_type": "stream",
          "name": "stdout",
          "text": [
            "Color primario seleccionado: rojo\n"
          ]
        }
      ]
    },
    {
      "cell_type": "markdown",
      "source": [
        "### Ejercicio 1.7\n",
        "\n",
        "Operador lógico AND"
      ],
      "metadata": {
        "id": "4Q6ZhKTxVrT5"
      }
    },
    {
      "cell_type": "code",
      "source": [
        "edad = 70\n",
        "genero = \"M\"\n",
        "\n",
        "if (edad >= 65) & (genero == \"M\"): #Defino if el cual debe cumplir 2 condiciones\n",
        "    print(\"usted se encuentra en edad jubilatoria\") #Código a ejecutar cuando se cumpla el if\n",
        "elif (edad >= 62) & (genero == \"F\"): #Defino elif el cual debe cumplir 2 condiciones\n",
        "    print(\"usted se encuentra en edad jubilatoria\") #Código a ejecutar cuando se cumpla el elif\n",
        "else: #Defino else\n",
        "    print(\"no se encuentra en edad jubilatoria\") #Código a ejecutar en el else"
      ],
      "metadata": {
        "colab": {
          "base_uri": "https://localhost:8080/"
        },
        "id": "NCGsf8i2VqsZ",
        "outputId": "64561069-7950-43eb-99ec-f03762890d89"
      },
      "execution_count": 37,
      "outputs": [
        {
          "output_type": "stream",
          "name": "stdout",
          "text": [
            "usted se encuentra en edad jubilatoria\n"
          ]
        }
      ]
    },
    {
      "cell_type": "code",
      "source": [
        "edad = 50\n",
        "genero = \"M\"\n",
        "\n",
        "if (edad >= 65) & (genero == \"M\"): #Defino if el cual debe cumplir 2 condiciones\n",
        "    print(\"usted se encuentra en edad jubilatoria\") #Código a ejecutar cuando se cumpla el if\n",
        "elif (edad >= 62) & (genero == \"F\"): #Defino elif el cual debe cumplir 2 condiciones\n",
        "    print(\"usted se encuentra en edad jubilatoria\") #Código a ejecutar cuando se cumpla el elif\n",
        "else: #Defino else\n",
        "    print(\"no se encuentra en edad jubilatoria\") #Código a ejecutar en el else"
      ],
      "metadata": {
        "colab": {
          "base_uri": "https://localhost:8080/"
        },
        "id": "tosjKS9SWoqb",
        "outputId": "1ed994df-5f76-42e9-ddf6-e1a4e6a9d765"
      },
      "execution_count": 38,
      "outputs": [
        {
          "output_type": "stream",
          "name": "stdout",
          "text": [
            "no se encuentra en edad jubilatoria\n"
          ]
        }
      ]
    },
    {
      "cell_type": "code",
      "source": [
        "edad = 65\n",
        "genero = \"F\"\n",
        "\n",
        "if (edad >= 65) & (genero == \"M\"): #Defino if el cual debe cumplir 2 condiciones\n",
        "    print(\"usted se encuentra en edad jubilatoria\") #Código a ejecutar cuando se cumpla el if\n",
        "elif (edad >= 62) & (genero == \"F\"): #Defino elif el cual debe cumplir 2 condiciones\n",
        "    print(\"usted se encuentra en edad jubilatoria\") #Código a ejecutar cuando se cumpla el elif\n",
        "else: #Defino else\n",
        "    print(\"no se encuentra en edad jubilatoria\") #Código a ejecutar en el else"
      ],
      "metadata": {
        "colab": {
          "base_uri": "https://localhost:8080/"
        },
        "id": "ajCsC0X3WrqY",
        "outputId": "10a7d68b-b7be-47bb-ab2b-c6de31af7d16"
      },
      "execution_count": 39,
      "outputs": [
        {
          "output_type": "stream",
          "name": "stdout",
          "text": [
            "usted se encuentra en edad jubilatoria\n"
          ]
        }
      ]
    },
    {
      "cell_type": "markdown",
      "source": [
        "### Ejercicio 1.8\n",
        "\n",
        "Operador lógico OR"
      ],
      "metadata": {
        "id": "1dpnZWu4XRAD"
      }
    },
    {
      "cell_type": "code",
      "source": [
        "cargo = \"profesor\"\n",
        "\n",
        "if (cargo == \"profesor\") | (cargo == \"coordinador\" ):\n",
        "    print(\"Es empleado\")\n",
        "else:\n",
        "    print(\"Es alumno\")"
      ],
      "metadata": {
        "colab": {
          "base_uri": "https://localhost:8080/"
        },
        "id": "aiV0R7DEXYD6",
        "outputId": "2576fc96-5661-4fdc-db98-503b61c683a0"
      },
      "execution_count": 40,
      "outputs": [
        {
          "output_type": "stream",
          "name": "stdout",
          "text": [
            "Es empleado\n"
          ]
        }
      ]
    },
    {
      "cell_type": "code",
      "source": [
        "cargo = \"Laura\"\n",
        "\n",
        "if (cargo == \"profesor\") | (cargo == \"coordinador\" ):\n",
        "    print(\"Es empleado\")\n",
        "else:\n",
        "    print(\"Es alumno\")"
      ],
      "metadata": {
        "colab": {
          "base_uri": "https://localhost:8080/"
        },
        "id": "5qVThDdVX5kg",
        "outputId": "6723106e-36c1-43ab-d1ba-ddc1b328a2b3"
      },
      "execution_count": 43,
      "outputs": [
        {
          "output_type": "stream",
          "name": "stdout",
          "text": [
            "Es alumno\n"
          ]
        }
      ]
    },
    {
      "cell_type": "markdown",
      "source": [
        "### Ejercicio 1.9\n",
        "\n",
        "Operador lógico NOT"
      ],
      "metadata": {
        "id": "9zPdzVvUXg9K"
      }
    },
    {
      "cell_type": "code",
      "source": [
        "numero_entero = 1\n",
        "\n",
        "if not type(numero_entero) == int: #Defino una condición if que solo se active cuando el tipo de dato no es integer\n",
        "    print(\"Por favor cambie el típo de dato a entero\")"
      ],
      "metadata": {
        "id": "EQyuRgcSXoAy"
      },
      "execution_count": 41,
      "outputs": []
    },
    {
      "cell_type": "code",
      "source": [
        "numero_entero = 4.5\n",
        "\n",
        "if not type(numero_entero) == int: #Defino una condición if que solo se active cuando el tipo de dato no es integer\n",
        "    print(\"Por favor cambie el típo de dato a entero\")"
      ],
      "metadata": {
        "colab": {
          "base_uri": "https://localhost:8080/"
        },
        "id": "sxJaSdAMXzBk",
        "outputId": "c82af930-7f77-43a3-a6e4-72bc36d5e63f"
      },
      "execution_count": 42,
      "outputs": [
        {
          "output_type": "stream",
          "name": "stdout",
          "text": [
            "Por favor cambie el típo de dato a entero\n"
          ]
        }
      ]
    }
  ]
}