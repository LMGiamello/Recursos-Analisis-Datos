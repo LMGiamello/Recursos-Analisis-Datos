{
  "nbformat": 4,
  "nbformat_minor": 0,
  "metadata": {
    "colab": {
      "provenance": [],
      "authorship_tag": "ABX9TyMpzgPfOB93OCVjKsq4U8WJ",
      "include_colab_link": true
    },
    "kernelspec": {
      "name": "python3",
      "display_name": "Python 3"
    },
    "language_info": {
      "name": "python"
    }
  },
  "cells": [
    {
      "cell_type": "markdown",
      "metadata": {
        "id": "view-in-github",
        "colab_type": "text"
      },
      "source": [
        "<a href=\"https://colab.research.google.com/github/LMGiamello/Recursos-Analisis-Datos/blob/main/Trabajo_en_clase_6.ipynb\" target=\"_parent\"><img src=\"https://colab.research.google.com/assets/colab-badge.svg\" alt=\"Open In Colab\"/></a>"
      ]
    },
    {
      "cell_type": "markdown",
      "source": [
        "# Clase 6\n"
      ],
      "metadata": {
        "id": "3MULVlDDe7ZH"
      }
    },
    {
      "cell_type": "markdown",
      "source": [
        "## ESTRUCTURAS DE CONTROL"
      ],
      "metadata": {
        "id": "asVgEOTY8Hb8"
      }
    },
    {
      "cell_type": "markdown",
      "source": [
        "### while()"
      ],
      "metadata": {
        "id": "ReZWrnpD8OYD"
      }
    },
    {
      "cell_type": "markdown",
      "source": [
        "### Ejercicio 1.1\n"
      ],
      "metadata": {
        "id": "gnryCPTT9PE5"
      }
    },
    {
      "cell_type": "code",
      "execution_count": 3,
      "metadata": {
        "id": "3xRnCg7We2id",
        "colab": {
          "base_uri": "https://localhost:8080/"
        },
        "outputId": "fcde94bc-bb91-4ec7-b3d1-27be2e3f7ee7"
      },
      "outputs": [
        {
          "name": "stdout",
          "output_type": "stream",
          "text": [
            "Ingrese su contraseña: lau\n",
            "La contraseña lau es incorrecta, reintente por favor\n",
            "Ingrese su contraseña nuevamente:lau01\n"
          ]
        }
      ],
      "source": [
        "password_usuario = \"lau01\"\n",
        "password_ingresada = input(\"Ingrese su contraseña: \")\n",
        "\n",
        "while(password_usuario != password_ingresada):\n",
        "  print(\"La contraseña\", password_ingresada, \"es incorrecta, reintente por favor\")\n",
        "  password_ingresada = input(\"Ingrese su contraseña nuevamente:\")\n"
      ]
    },
    {
      "cell_type": "markdown",
      "source": [
        "### Ejercicio 1.2\n"
      ],
      "metadata": {
        "id": "AaQul2Se9UEL"
      }
    },
    {
      "cell_type": "code",
      "source": [
        "numero_ciclos = 1\n",
        "while numero_ciclos < 10:\n",
        "  print(numero_ciclos)\n",
        "  numero_ciclos += 1"
      ],
      "metadata": {
        "colab": {
          "base_uri": "https://localhost:8080/"
        },
        "id": "F2Iq6hXl9WWt",
        "outputId": "cc3846bb-5ddd-4d50-c0f1-56216fd6bc21"
      },
      "execution_count": 4,
      "outputs": [
        {
          "output_type": "stream",
          "name": "stdout",
          "text": [
            "1\n",
            "2\n",
            "3\n",
            "4\n",
            "5\n",
            "6\n",
            "7\n",
            "8\n",
            "9\n"
          ]
        }
      ]
    },
    {
      "cell_type": "markdown",
      "source": [
        "### Ejercicio 1.3"
      ],
      "metadata": {
        "id": "7XWTrx7_LTdC"
      }
    },
    {
      "cell_type": "code",
      "source": [
        "nombre_usuario = \"Lau\"\n",
        "nombre_ingresado = input(\"Ingrese su nombre: \")\n",
        "\n",
        "\n",
        "while (nombre_usuario != nombre_ingresado):\n",
        "  print(\"El usuario\",nombre_ingresado,\"es incorrecto, re intente por favor\")\n",
        "  nombre_ingresado = input(\"Ingrese su nombre nuevamente: \")\n",
        "else:\n",
        "  print(\"Bienvenido\",nombre_ingresado)"
      ],
      "metadata": {
        "colab": {
          "base_uri": "https://localhost:8080/"
        },
        "id": "ug3xVQSwLMCN",
        "outputId": "6ccb973d-9851-432c-95fd-5d82e7a8b4a8"
      },
      "execution_count": 5,
      "outputs": [
        {
          "output_type": "stream",
          "name": "stdout",
          "text": [
            "Ingrese su nombre: fede\n",
            "El usuario fede es incorrecto, re intente por favor\n",
            "Ingrese su nombre nuevamente: Lau\n",
            "Bienvenido Lau\n"
          ]
        }
      ]
    },
    {
      "cell_type": "markdown",
      "source": [
        "### Ejercicio 1.4"
      ],
      "metadata": {
        "id": "a2Jp0Ui_LeL-"
      }
    },
    {
      "cell_type": "code",
      "source": [
        "numero_entero = 0\n",
        "\n",
        "while numero_entero < 10:\n",
        "    print(\"El numero entero es:\", numero_entero)\n",
        "    numero_entero += 1\n",
        "    if numero_entero == 5:\n",
        "        print(\"¡El numero entero llegó a 5, terminando el bucle!\")\n",
        "        break"
      ],
      "metadata": {
        "colab": {
          "base_uri": "https://localhost:8080/"
        },
        "id": "scsmdn6LLgmv",
        "outputId": "3df72e82-4c2d-4716-8ff6-8e15ed0d47e3"
      },
      "execution_count": 6,
      "outputs": [
        {
          "output_type": "stream",
          "name": "stdout",
          "text": [
            "El numero entero es: 0\n",
            "El numero entero es: 1\n",
            "El numero entero es: 2\n",
            "El numero entero es: 3\n",
            "El numero entero es: 4\n",
            "¡El numero entero llegó a 5, terminando el bucle!\n"
          ]
        }
      ]
    },
    {
      "cell_type": "markdown",
      "source": [
        "### Ejercicio 1.5\n"
      ],
      "metadata": {
        "id": "5TdD92V1M6g9"
      }
    },
    {
      "cell_type": "code",
      "source": [
        "texto = \"Este mensaje que tiene 32 letras\"\n",
        "numero_letra = 1\n",
        "\n",
        "for letra in texto:\n",
        "  mensaje = \"La letra {} es {}\".format(numero_letra,letra)\n",
        "  print(mensaje)\n",
        "  numero_letra += 1"
      ],
      "metadata": {
        "colab": {
          "base_uri": "https://localhost:8080/"
        },
        "id": "v4PxKcyLM96E",
        "outputId": "2d4d7bc1-227e-4b64-e5db-cb539f7fc783"
      },
      "execution_count": 7,
      "outputs": [
        {
          "output_type": "stream",
          "name": "stdout",
          "text": [
            "La letra 1 es E\n",
            "La letra 2 es s\n",
            "La letra 3 es t\n",
            "La letra 4 es e\n",
            "La letra 5 es  \n",
            "La letra 6 es m\n",
            "La letra 7 es e\n",
            "La letra 8 es n\n",
            "La letra 9 es s\n",
            "La letra 10 es a\n",
            "La letra 11 es j\n",
            "La letra 12 es e\n",
            "La letra 13 es  \n",
            "La letra 14 es q\n",
            "La letra 15 es u\n",
            "La letra 16 es e\n",
            "La letra 17 es  \n",
            "La letra 18 es t\n",
            "La letra 19 es i\n",
            "La letra 20 es e\n",
            "La letra 21 es n\n",
            "La letra 22 es e\n",
            "La letra 23 es  \n",
            "La letra 24 es 3\n",
            "La letra 25 es 2\n",
            "La letra 26 es  \n",
            "La letra 27 es l\n",
            "La letra 28 es e\n",
            "La letra 29 es t\n",
            "La letra 30 es r\n",
            "La letra 31 es a\n",
            "La letra 32 es s\n"
          ]
        }
      ]
    },
    {
      "cell_type": "markdown",
      "source": [
        "### Ejercicio 1.6"
      ],
      "metadata": {
        "id": "XKxQZUWkmaLA"
      }
    },
    {
      "cell_type": "code",
      "source": [
        "for numero in range(10, 20):\n",
        "    print(numero)"
      ],
      "metadata": {
        "colab": {
          "base_uri": "https://localhost:8080/"
        },
        "id": "skPX2Hw8nkMR",
        "outputId": "bf86a5cc-56ba-470e-cc7a-6f861745e063"
      },
      "execution_count": 8,
      "outputs": [
        {
          "output_type": "stream",
          "name": "stdout",
          "text": [
            "10\n",
            "11\n",
            "12\n",
            "13\n",
            "14\n",
            "15\n",
            "16\n",
            "17\n",
            "18\n",
            "19\n"
          ]
        }
      ]
    },
    {
      "cell_type": "markdown",
      "source": [
        "### Ejercicio 1.7\n"
      ],
      "metadata": {
        "id": "icWWfRIoomgj"
      }
    },
    {
      "cell_type": "code",
      "source": [
        "for valores_pares in range(2, 14, 2):\n",
        "    print(valores_pares)"
      ],
      "metadata": {
        "colab": {
          "base_uri": "https://localhost:8080/"
        },
        "id": "HeSOIumCoplC",
        "outputId": "c8ba36e6-c523-473d-cbdc-90acd5605794"
      },
      "execution_count": 9,
      "outputs": [
        {
          "output_type": "stream",
          "name": "stdout",
          "text": [
            "2\n",
            "4\n",
            "6\n",
            "8\n",
            "10\n",
            "12\n"
          ]
        }
      ]
    },
    {
      "cell_type": "code",
      "source": [
        "for numeros_negativos in range(-5, -16, -1):\n",
        "    print(numeros_negativos)"
      ],
      "metadata": {
        "colab": {
          "base_uri": "https://localhost:8080/"
        },
        "id": "SWFZWfHDoyUI",
        "outputId": "b2ec6a25-f0fc-4bd4-ba8d-3efd1ca423e1"
      },
      "execution_count": 10,
      "outputs": [
        {
          "output_type": "stream",
          "name": "stdout",
          "text": [
            "-5\n",
            "-6\n",
            "-7\n",
            "-8\n",
            "-9\n",
            "-10\n",
            "-11\n",
            "-12\n",
            "-13\n",
            "-14\n",
            "-15\n"
          ]
        }
      ]
    },
    {
      "cell_type": "markdown",
      "source": [
        "## COLECCIONES DE DATOS"
      ],
      "metadata": {
        "id": "FC-BFjI-o28Q"
      }
    },
    {
      "cell_type": "markdown",
      "source": [
        "### list[ ]"
      ],
      "metadata": {
        "id": "McBM_T_-o7KE"
      }
    },
    {
      "cell_type": "markdown",
      "source": [
        "### Ejercicio 2.0"
      ],
      "metadata": {
        "id": "JQ6lM82OpKXd"
      }
    },
    {
      "cell_type": "code",
      "source": [
        "lista_nombres = [\"andres\", \"maria\", \"fernando\"]\n",
        "lista_numerica = [15, 6, 8.9, -5.5]\n",
        "lista_mezclada = [\"azul\", 1, False, \"programar\", 8.8]"
      ],
      "metadata": {
        "id": "4VBuuHJ4o01M"
      },
      "execution_count": 11,
      "outputs": []
    },
    {
      "cell_type": "markdown",
      "source": [
        "### Ejercicio 2.1"
      ],
      "metadata": {
        "id": "5SMoQiLrpWIL"
      }
    },
    {
      "cell_type": "code",
      "source": [
        "lista_apellidos = [\"perez\",\"garcia\", \"muñoz\",\"ruiz\"]\n",
        "\n",
        "print(\"El 1er apellido de la lista tiene indice 0 y es:\", lista_apellidos[0])\n",
        "print(\"El 3er apellido de la lista tiene indice 2 y es:\", lista_apellidos[2])"
      ],
      "metadata": {
        "colab": {
          "base_uri": "https://localhost:8080/"
        },
        "id": "L2V1LXXWpYXj",
        "outputId": "aaae020d-ab9f-4e0e-cf71-4ba7aaa42f43"
      },
      "execution_count": 12,
      "outputs": [
        {
          "output_type": "stream",
          "name": "stdout",
          "text": [
            "El 1er apellido de la lista tiene indice 0 y es: perez\n",
            "El 3er apellido de la lista tiene indice 2 y es: muñoz\n"
          ]
        }
      ]
    },
    {
      "cell_type": "markdown",
      "source": [
        "### Ejercicio 2.2"
      ],
      "metadata": {
        "id": "pmDoKjm1ppqD"
      }
    },
    {
      "cell_type": "code",
      "source": [
        "lista_valores_numericos = [5, 15, 62, -22, -77]\n",
        "lista_frutas = [\"banana\", \"pera\", \"mango\"]\n",
        "lista_datos_personales = [\"andres\", 25, True, \"python\"]"
      ],
      "metadata": {
        "id": "SHwVKRZUpwxf"
      },
      "execution_count": 13,
      "outputs": []
    },
    {
      "cell_type": "code",
      "source": [
        "type(lista_datos_personales)"
      ],
      "metadata": {
        "colab": {
          "base_uri": "https://localhost:8080/"
        },
        "id": "Yvu0-ppQp1eE",
        "outputId": "6c182a4a-1032-49a0-b613-0f1dbd75562a"
      },
      "execution_count": 14,
      "outputs": [
        {
          "output_type": "execute_result",
          "data": {
            "text/plain": [
              "list"
            ]
          },
          "metadata": {},
          "execution_count": 14
        }
      ]
    },
    {
      "cell_type": "code",
      "source": [
        "lista_valores_numericos.append(50)\n",
        "lista_valores_numericos"
      ],
      "metadata": {
        "colab": {
          "base_uri": "https://localhost:8080/"
        },
        "id": "zGbZ9b59p5cM",
        "outputId": "1e9d69ce-df66-4d66-af78-e02c367da333"
      },
      "execution_count": 15,
      "outputs": [
        {
          "output_type": "execute_result",
          "data": {
            "text/plain": [
              "[5, 15, 62, -22, -77, 50]"
            ]
          },
          "metadata": {},
          "execution_count": 15
        }
      ]
    },
    {
      "cell_type": "code",
      "source": [
        "lista_frutas.extend([\"manzana\", \"uva\"])\n",
        "lista_frutas"
      ],
      "metadata": {
        "colab": {
          "base_uri": "https://localhost:8080/"
        },
        "id": "-oIPUjnMqAIV",
        "outputId": "141c5721-8976-4bda-c56c-476e50b43a1c"
      },
      "execution_count": 16,
      "outputs": [
        {
          "output_type": "execute_result",
          "data": {
            "text/plain": [
              "['banana', 'pera', 'mango', 'manzana', 'uva']"
            ]
          },
          "metadata": {},
          "execution_count": 16
        }
      ]
    },
    {
      "cell_type": "code",
      "source": [
        "lista_frutas.insert(2, \"kiwi\")\n",
        "lista_frutas"
      ],
      "metadata": {
        "colab": {
          "base_uri": "https://localhost:8080/"
        },
        "id": "l6GAQbS-qPTZ",
        "outputId": "69edd39b-d12f-448a-cba3-1f92e92470ec"
      },
      "execution_count": 17,
      "outputs": [
        {
          "output_type": "execute_result",
          "data": {
            "text/plain": [
              "['banana', 'pera', 'kiwi', 'mango', 'manzana', 'uva']"
            ]
          },
          "metadata": {},
          "execution_count": 17
        }
      ]
    },
    {
      "cell_type": "code",
      "source": [
        "ultimo_dato = lista_datos_personales.pop()\n",
        "print(\"El ultimo dato era: \", ultimo_dato)\n",
        "print(\"La lista quedo: \",lista_datos_personales)"
      ],
      "metadata": {
        "colab": {
          "base_uri": "https://localhost:8080/"
        },
        "id": "IMrs4j2lqRZw",
        "outputId": "4b79ed6d-0d03-452b-974b-4bb273844abc"
      },
      "execution_count": 18,
      "outputs": [
        {
          "output_type": "stream",
          "name": "stdout",
          "text": [
            "El ultimo dato era:  python\n",
            "La lista quedo:  ['andres', 25, True]\n"
          ]
        }
      ]
    },
    {
      "cell_type": "code",
      "source": [
        "lista_frutas.remove(\"pera\")\n",
        "lista_frutas"
      ],
      "metadata": {
        "colab": {
          "base_uri": "https://localhost:8080/"
        },
        "id": "UPjif5K4qldD",
        "outputId": "dc34e97c-bbcf-4db7-d1cf-9f859410e00c"
      },
      "execution_count": 19,
      "outputs": [
        {
          "output_type": "execute_result",
          "data": {
            "text/plain": [
              "['banana', 'kiwi', 'mango', 'manzana', 'uva']"
            ]
          },
          "metadata": {},
          "execution_count": 19
        }
      ]
    },
    {
      "cell_type": "code",
      "source": [
        "lista_valores_numericos.sort()\n",
        "lista_valores_numericos"
      ],
      "metadata": {
        "colab": {
          "base_uri": "https://localhost:8080/"
        },
        "id": "PF_pOd5jqsB7",
        "outputId": "d4134763-6759-4bfb-ded3-bf98b78e0fa0"
      },
      "execution_count": 20,
      "outputs": [
        {
          "output_type": "execute_result",
          "data": {
            "text/plain": [
              "[-77, -22, 5, 15, 50, 62]"
            ]
          },
          "metadata": {},
          "execution_count": 20
        }
      ]
    },
    {
      "cell_type": "code",
      "source": [
        "lista_frutas.reverse()\n",
        "lista_frutas"
      ],
      "metadata": {
        "colab": {
          "base_uri": "https://localhost:8080/"
        },
        "id": "lgPhUtJkqwQG",
        "outputId": "62b44fd9-4bc1-48e1-b83b-16f0006ea6a7"
      },
      "execution_count": 21,
      "outputs": [
        {
          "output_type": "execute_result",
          "data": {
            "text/plain": [
              "['uva', 'manzana', 'mango', 'kiwi', 'banana']"
            ]
          },
          "metadata": {},
          "execution_count": 21
        }
      ]
    },
    {
      "cell_type": "code",
      "source": [
        "lista_5_valores = [\"Primer Valor\", 2, True, \"4to Valor\", 5.0]\n",
        "len(lista_5_valores)"
      ],
      "metadata": {
        "colab": {
          "base_uri": "https://localhost:8080/"
        },
        "id": "4CtLTLwoq0zI",
        "outputId": "f32f42a1-c1e1-4947-be06-0226987bfed4"
      },
      "execution_count": 23,
      "outputs": [
        {
          "output_type": "execute_result",
          "data": {
            "text/plain": [
              "5"
            ]
          },
          "metadata": {},
          "execution_count": 23
        }
      ]
    },
    {
      "cell_type": "markdown",
      "source": [
        "### tuple ( )"
      ],
      "metadata": {
        "id": "uK7rYsI2rImC"
      }
    },
    {
      "cell_type": "markdown",
      "source": [
        "### Ejercicio 2.3"
      ],
      "metadata": {
        "id": "TgTmyFoBrNLA"
      }
    },
    {
      "cell_type": "code",
      "source": [
        "tupla_vehiculos = (\"auto\", \"moto\", \"camion\", \"bicicleta\")\n",
        "\n",
        "print(\"El 1er vehiculo de la lista tiene indice 0 y es:\", tupla_vehiculos[0])\n",
        "print(\"El 4to vehiculo de la lista tiene indice 3 y es:\", tupla_vehiculos[3])"
      ],
      "metadata": {
        "colab": {
          "base_uri": "https://localhost:8080/"
        },
        "id": "JvI5U9hnrAsC",
        "outputId": "8e77faea-d916-4c0a-de6c-ba2c9cfe6b1d"
      },
      "execution_count": 24,
      "outputs": [
        {
          "output_type": "stream",
          "name": "stdout",
          "text": [
            "El 1er vehiculo de la lista tiene indice 0 y es: auto\n",
            "El 4to vehiculo de la lista tiene indice 3 y es: bicicleta\n"
          ]
        }
      ]
    },
    {
      "cell_type": "code",
      "source": [
        "type(tupla_vehiculos)"
      ],
      "metadata": {
        "colab": {
          "base_uri": "https://localhost:8080/"
        },
        "id": "Ur6BgQqVrb7C",
        "outputId": "6c5ca914-ba9a-466a-eaf8-8294efe7c347"
      },
      "execution_count": 25,
      "outputs": [
        {
          "output_type": "execute_result",
          "data": {
            "text/plain": [
              "tuple"
            ]
          },
          "metadata": {},
          "execution_count": 25
        }
      ]
    },
    {
      "cell_type": "markdown",
      "source": [
        "### Ejercicio 2.4"
      ],
      "metadata": {
        "id": "qRXdKNWwrf9m"
      }
    },
    {
      "cell_type": "code",
      "source": [
        "tupla_verduras = (\"acelga\", \"papa\",\"calabaza\", \"cebolla\", \"papa\")\n",
        "\n",
        "indice_calabaza = tupla_verduras.index(\"calabaza\")\n",
        "print(\"El índice de 'calabaza' es:\", indice_calabaza)"
      ],
      "metadata": {
        "colab": {
          "base_uri": "https://localhost:8080/"
        },
        "id": "pn1slq0Arnqc",
        "outputId": "8fb58b6c-34bb-4bf7-e0c9-23d0cec237a9"
      },
      "execution_count": 26,
      "outputs": [
        {
          "output_type": "stream",
          "name": "stdout",
          "text": [
            "El índice de 'calabaza' es: 2\n"
          ]
        }
      ]
    },
    {
      "cell_type": "code",
      "source": [
        "cantidad_papa = tupla_verduras.count(\"papa\")\n",
        "print(\"El número de veces que 'papa' aparece es:\", cantidad_papa)"
      ],
      "metadata": {
        "colab": {
          "base_uri": "https://localhost:8080/"
        },
        "id": "j6LZQlM9rvdi",
        "outputId": "35f69da3-25bd-4afa-81ef-05cf1bcb6b28"
      },
      "execution_count": 27,
      "outputs": [
        {
          "output_type": "stream",
          "name": "stdout",
          "text": [
            "El número de veces que 'papa' aparece es: 2\n"
          ]
        }
      ]
    },
    {
      "cell_type": "markdown",
      "source": [
        "### set"
      ],
      "metadata": {
        "id": "jVjvr6Snr6BX"
      }
    },
    {
      "cell_type": "markdown",
      "source": [
        "### Ejercicio 2.5"
      ],
      "metadata": {
        "id": "ajqqii69r-oV"
      }
    },
    {
      "cell_type": "code",
      "source": [
        "lista_valores_repetidos = (87,31,2,2,3,3,1,5,4,3,23,23,12,9,8,99,11,56,26,23,71,15,124,8,1,3,1,9,49,1,5,1)\n",
        "print(lista_valores_repetidos)"
      ],
      "metadata": {
        "colab": {
          "base_uri": "https://localhost:8080/"
        },
        "id": "kizwZqB-r8uy",
        "outputId": "2d905747-1267-479d-f6a0-434085033cd6"
      },
      "execution_count": 31,
      "outputs": [
        {
          "output_type": "stream",
          "name": "stdout",
          "text": [
            "(87, 31, 2, 2, 3, 3, 1, 5, 4, 3, 23, 23, 12, 9, 8, 99, 11, 56, 26, 23, 71, 15, 124, 8, 1, 3, 1, 9, 49, 1, 5, 1)\n"
          ]
        }
      ]
    },
    {
      "cell_type": "code",
      "source": [
        "conjunto_unicos = set(lista_valores_repetidos)\n",
        "\n",
        "print(\"Elementos únicos:\", conjunto_unicos)"
      ],
      "metadata": {
        "colab": {
          "base_uri": "https://localhost:8080/"
        },
        "id": "6t7OYAiOsNUs",
        "outputId": "c8fe77c4-c6d5-4b4a-8a46-721ae1c88abb"
      },
      "execution_count": 32,
      "outputs": [
        {
          "output_type": "stream",
          "name": "stdout",
          "text": [
            "Elementos únicos: {1, 2, 3, 4, 5, 8, 9, 11, 12, 15, 23, 26, 31, 49, 56, 71, 87, 99, 124}\n"
          ]
        }
      ]
    },
    {
      "cell_type": "code",
      "source": [
        "type(conjunto_unicos)"
      ],
      "metadata": {
        "colab": {
          "base_uri": "https://localhost:8080/"
        },
        "id": "YHuaOVCEsWdD",
        "outputId": "5393e809-0aaf-4e50-ead0-ca1c0e50ac40"
      },
      "execution_count": 33,
      "outputs": [
        {
          "output_type": "execute_result",
          "data": {
            "text/plain": [
              "set"
            ]
          },
          "metadata": {},
          "execution_count": 33
        }
      ]
    },
    {
      "cell_type": "markdown",
      "source": [
        "### dic { }"
      ],
      "metadata": {
        "id": "OMSykPn0scQv"
      }
    },
    {
      "cell_type": "markdown",
      "source": [
        "### Ejercicio 2.6"
      ],
      "metadata": {
        "id": "ITVXCsdnsb86"
      }
    },
    {
      "cell_type": "code",
      "source": [
        "informacion_andres = {\n",
        "    \"nombre\": \"Andrés\",\n",
        "    \"apellido\": \"Muñoz\",\n",
        "    \"edad\": 25,\n",
        "    \"es_profesor\" : True,\n",
        "    \"es_alumno\" : False\n",
        "}"
      ],
      "metadata": {
        "id": "Mx1nbbArsi7f"
      },
      "execution_count": 34,
      "outputs": []
    },
    {
      "cell_type": "code",
      "source": [
        "informacion_andres"
      ],
      "metadata": {
        "colab": {
          "base_uri": "https://localhost:8080/"
        },
        "id": "TKnIp_ritDnv",
        "outputId": "73be50c2-c233-4c23-d2b1-eae76544f38e"
      },
      "execution_count": 35,
      "outputs": [
        {
          "output_type": "execute_result",
          "data": {
            "text/plain": [
              "{'nombre': 'Andrés',\n",
              " 'apellido': 'Muñoz',\n",
              " 'edad': 25,\n",
              " 'es_profesor': True,\n",
              " 'es_alumno': False}"
            ]
          },
          "metadata": {},
          "execution_count": 35
        }
      ]
    },
    {
      "cell_type": "code",
      "source": [
        "print(informacion_andres)"
      ],
      "metadata": {
        "colab": {
          "base_uri": "https://localhost:8080/"
        },
        "id": "m7As1M_vtHAY",
        "outputId": "c3ae5d75-4f6b-4262-8830-f0eba4de5521"
      },
      "execution_count": 36,
      "outputs": [
        {
          "output_type": "stream",
          "name": "stdout",
          "text": [
            "{'nombre': 'Andrés', 'apellido': 'Muñoz', 'edad': 25, 'es_profesor': True, 'es_alumno': False}\n"
          ]
        }
      ]
    },
    {
      "cell_type": "code",
      "source": [
        "type(informacion_andres)"
      ],
      "metadata": {
        "colab": {
          "base_uri": "https://localhost:8080/"
        },
        "id": "ugS6LyB-tKVr",
        "outputId": "7d6bcb9b-0d72-4d3f-d434-8c0eeb9562fb"
      },
      "execution_count": 37,
      "outputs": [
        {
          "output_type": "execute_result",
          "data": {
            "text/plain": [
              "dict"
            ]
          },
          "metadata": {},
          "execution_count": 37
        }
      ]
    },
    {
      "cell_type": "markdown",
      "source": [
        "### Ejercicio 2.7"
      ],
      "metadata": {
        "id": "HHTWsCGitPxA"
      }
    },
    {
      "cell_type": "code",
      "source": [
        "apellido_persona = informacion_andres.get(\"apellido\")\n",
        "print(\"Apellido:\", apellido_persona)"
      ],
      "metadata": {
        "colab": {
          "base_uri": "https://localhost:8080/"
        },
        "id": "7BMqKbQetSUX",
        "outputId": "fa113f37-99fc-48a7-ca10-b5f3f64717e1"
      },
      "execution_count": 38,
      "outputs": [
        {
          "output_type": "stream",
          "name": "stdout",
          "text": [
            "Apellido: Muñoz\n"
          ]
        }
      ]
    },
    {
      "cell_type": "code",
      "source": [
        "telefono_persona = informacion_andres.get(\"telefono\", \"No disponible\")\n",
        "print(\"Teléfono:\", telefono_persona)"
      ],
      "metadata": {
        "colab": {
          "base_uri": "https://localhost:8080/"
        },
        "id": "E-BIBt2utZXM",
        "outputId": "fcf4a554-1a91-45e0-847f-6cc8abfadeed"
      },
      "execution_count": 39,
      "outputs": [
        {
          "output_type": "stream",
          "name": "stdout",
          "text": [
            "Teléfono: No disponible\n"
          ]
        }
      ]
    },
    {
      "cell_type": "code",
      "source": [
        "keys_diccionario = informacion_andres.keys()\n",
        "print(\"Keys:\", keys_diccionario)"
      ],
      "metadata": {
        "colab": {
          "base_uri": "https://localhost:8080/"
        },
        "id": "dWxYWUqYtgQv",
        "outputId": "db8c4a5f-800f-4de9-9009-10a13a0f6520"
      },
      "execution_count": 40,
      "outputs": [
        {
          "output_type": "stream",
          "name": "stdout",
          "text": [
            "Keys: dict_keys(['nombre', 'apellido', 'edad', 'es_profesor', 'es_alumno'])\n"
          ]
        }
      ]
    },
    {
      "cell_type": "code",
      "source": [
        "values_diccionario = informacion_andres.values()\n",
        "print(\"Values:\", values_diccionario)"
      ],
      "metadata": {
        "colab": {
          "base_uri": "https://localhost:8080/"
        },
        "id": "IRTCfkUztlH9",
        "outputId": "3102e761-a6e6-49cf-b8de-f3d2a3fd551b"
      },
      "execution_count": 41,
      "outputs": [
        {
          "output_type": "stream",
          "name": "stdout",
          "text": [
            "Values: dict_values(['Andrés', 'Muñoz', 25, True, False])\n"
          ]
        }
      ]
    },
    {
      "cell_type": "code",
      "source": [
        "items_diccionario = informacion_andres.items()\n",
        "print(\"Items:\", items_diccionario)"
      ],
      "metadata": {
        "colab": {
          "base_uri": "https://localhost:8080/"
        },
        "id": "edJaPb_FtpsY",
        "outputId": "f5680992-0ae2-4894-f79b-505f7e97bec8"
      },
      "execution_count": 42,
      "outputs": [
        {
          "output_type": "stream",
          "name": "stdout",
          "text": [
            "Items: dict_items([('nombre', 'Andrés'), ('apellido', 'Muñoz'), ('edad', 25), ('es_profesor', True), ('es_alumno', False)])\n"
          ]
        }
      ]
    },
    {
      "cell_type": "code",
      "source": [
        "edad_persona = informacion_andres.pop(\"edad\")\n",
        "print(\"Edad:\", edad_persona)\n",
        "print(\"Diccionario después de pop:\", informacion_andres)"
      ],
      "metadata": {
        "colab": {
          "base_uri": "https://localhost:8080/"
        },
        "id": "d2QScvb1tup4",
        "outputId": "a8187c02-3f65-44c4-939e-8360a49f12df"
      },
      "execution_count": 43,
      "outputs": [
        {
          "output_type": "stream",
          "name": "stdout",
          "text": [
            "Edad: 25\n",
            "Diccionario después de pop: {'nombre': 'Andrés', 'apellido': 'Muñoz', 'es_profesor': True, 'es_alumno': False}\n"
          ]
        }
      ]
    },
    {
      "cell_type": "code",
      "source": [
        "informacion_andres.clear()\n",
        "print(\"Diccionario después de clear:\", informacion_andres)"
      ],
      "metadata": {
        "colab": {
          "base_uri": "https://localhost:8080/"
        },
        "id": "B7_kFoZft4zX",
        "outputId": "74ae3670-1b09-4ce5-a0c5-5382d98ed6e3"
      },
      "execution_count": 44,
      "outputs": [
        {
          "output_type": "stream",
          "name": "stdout",
          "text": [
            "Diccionario después de clear: {}\n"
          ]
        }
      ]
    }
  ]
}