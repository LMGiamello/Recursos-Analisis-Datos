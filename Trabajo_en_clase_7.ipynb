{
  "nbformat": 4,
  "nbformat_minor": 0,
  "metadata": {
    "colab": {
      "provenance": [],
      "authorship_tag": "ABX9TyO+SMtvIgo1MGpztKjbpOno",
      "include_colab_link": true
    },
    "kernelspec": {
      "name": "python3",
      "display_name": "Python 3"
    },
    "language_info": {
      "name": "python"
    }
  },
  "cells": [
    {
      "cell_type": "markdown",
      "metadata": {
        "id": "view-in-github",
        "colab_type": "text"
      },
      "source": [
        "<a href=\"https://colab.research.google.com/github/LMGiamello/Recursos-Analisis-Datos/blob/main/Trabajo_en_clase_7.ipynb\" target=\"_parent\"><img src=\"https://colab.research.google.com/assets/colab-badge.svg\" alt=\"Open In Colab\"/></a>"
      ]
    },
    {
      "cell_type": "markdown",
      "source": [
        "# CLASE 7"
      ],
      "metadata": {
        "id": "pJoiYy8D5S1F"
      }
    },
    {
      "cell_type": "markdown",
      "source": [
        "## CLASES"
      ],
      "metadata": {
        "id": "JAqtO6YK5iG9"
      }
    },
    {
      "cell_type": "markdown",
      "source": [
        "### Ejercicio 1.0"
      ],
      "metadata": {
        "id": "JFh4R65jW5v3"
      }
    },
    {
      "cell_type": "code",
      "execution_count": 14,
      "metadata": {
        "id": "k4Y3OVkw5JLR"
      },
      "outputs": [],
      "source": [
        "class Numero:\n",
        "  valor = 5"
      ]
    },
    {
      "cell_type": "code",
      "source": [
        "Numero.valor"
      ],
      "metadata": {
        "colab": {
          "base_uri": "https://localhost:8080/"
        },
        "id": "dTZKKfayXGIF",
        "outputId": "bcc56a46-7a4d-416b-895f-9c452782467a"
      },
      "execution_count": 15,
      "outputs": [
        {
          "output_type": "execute_result",
          "data": {
            "text/plain": [
              "5"
            ]
          },
          "metadata": {},
          "execution_count": 15
        }
      ]
    },
    {
      "cell_type": "code",
      "source": [
        "class Letra:\n",
        "  caracter = \"o\""
      ],
      "metadata": {
        "id": "u-rtxe1rYY2T"
      },
      "execution_count": 16,
      "outputs": []
    },
    {
      "cell_type": "code",
      "source": [
        "Letra.caracter"
      ],
      "metadata": {
        "colab": {
          "base_uri": "https://localhost:8080/",
          "height": 35
        },
        "id": "xOvVac2sYp8W",
        "outputId": "8e558140-bc8e-467a-ace1-8290c1ad8183"
      },
      "execution_count": 17,
      "outputs": [
        {
          "output_type": "execute_result",
          "data": {
            "text/plain": [
              "'o'"
            ],
            "application/vnd.google.colaboratory.intrinsic+json": {
              "type": "string"
            }
          },
          "metadata": {},
          "execution_count": 17
        }
      ]
    },
    {
      "cell_type": "markdown",
      "source": [
        "### Ejercicio 1.1"
      ],
      "metadata": {
        "id": "M8YZpI40XRCd"
      }
    },
    {
      "cell_type": "code",
      "source": [
        "class Persona:\n",
        "  def __init__(self, nombre, edad) -> None:\n",
        "    self.nombre = nombre\n",
        "    self.edad = edad"
      ],
      "metadata": {
        "id": "pcB1P48IXTbr"
      },
      "execution_count": 18,
      "outputs": []
    },
    {
      "cell_type": "code",
      "source": [
        "persona1 = Persona(\"Laura\", 41)\n",
        "persona1.nombre, persona1.edad"
      ],
      "metadata": {
        "colab": {
          "base_uri": "https://localhost:8080/"
        },
        "id": "_s24xh9TXqOf",
        "outputId": "a979eef5-a700-444b-f635-80a8fa8bad9d"
      },
      "execution_count": 19,
      "outputs": [
        {
          "output_type": "execute_result",
          "data": {
            "text/plain": [
              "('Laura', 41)"
            ]
          },
          "metadata": {},
          "execution_count": 19
        }
      ]
    },
    {
      "cell_type": "code",
      "source": [
        "persona2 = Persona(\"Maria\", 30)\n",
        "persona2.edad, persona2.nombre"
      ],
      "metadata": {
        "colab": {
          "base_uri": "https://localhost:8080/"
        },
        "id": "dPRwxHZRYHIN",
        "outputId": "2fb66c30-6e49-45ef-b0cf-87c7a8e5b1e7"
      },
      "execution_count": 20,
      "outputs": [
        {
          "output_type": "execute_result",
          "data": {
            "text/plain": [
              "(30, 'Maria')"
            ]
          },
          "metadata": {},
          "execution_count": 20
        }
      ]
    },
    {
      "cell_type": "markdown",
      "source": [
        "### Ejercicio 1.2\n"
      ],
      "metadata": {
        "id": "NzlM6DBUYSLh"
      }
    },
    {
      "cell_type": "code",
      "source": [
        "class ColorSinStr:\n",
        "  def __init__(self, color, valor_hexa):\n",
        "    self.color = color\n",
        "    self.valor_hexa = valor_hexa"
      ],
      "metadata": {
        "id": "WulknStVYRxd"
      },
      "execution_count": 21,
      "outputs": []
    },
    {
      "cell_type": "code",
      "source": [
        "class ColorConStr:\n",
        "  def __init__(self, color, valor_hexa):\n",
        "    self.color = color\n",
        "    self.valor_hexa = valor_hexa\n",
        "\n",
        "  def __str__(self):\n",
        "    return f\"El color elejido es {self.color} y su valor hexadecimal es {self.valor_hexa}\""
      ],
      "metadata": {
        "id": "10hhLvwIZJ4l"
      },
      "execution_count": 22,
      "outputs": []
    },
    {
      "cell_type": "code",
      "source": [
        "color_rojo_sin_str = ColorSinStr(\"Rojo\", \"#FF0000\")\n",
        "color_rojo_sin_str.color, color_rojo_sin_str.valor_hexa"
      ],
      "metadata": {
        "colab": {
          "base_uri": "https://localhost:8080/"
        },
        "id": "terYWgxbZUJ9",
        "outputId": "d316523a-27a7-4bf4-b066-bd955160325d"
      },
      "execution_count": 23,
      "outputs": [
        {
          "output_type": "execute_result",
          "data": {
            "text/plain": [
              "('Rojo', '#FF0000')"
            ]
          },
          "metadata": {},
          "execution_count": 23
        }
      ]
    },
    {
      "cell_type": "code",
      "source": [
        "print(color_rojo_sin_str)"
      ],
      "metadata": {
        "colab": {
          "base_uri": "https://localhost:8080/"
        },
        "id": "e3TaS9YzZbFz",
        "outputId": "ad72c922-e071-49c4-bb9a-2f07c4a16a72"
      },
      "execution_count": 24,
      "outputs": [
        {
          "output_type": "stream",
          "name": "stdout",
          "text": [
            "<__main__.ColorSinStr object at 0x787c15c2ba60>\n"
          ]
        }
      ]
    },
    {
      "cell_type": "code",
      "source": [
        "color_rojo_con_str = ColorConStr(\"Rojo\", \"#FF0000\")\n",
        "color_rojo_con_str.color, color_rojo_con_str.valor_hexa"
      ],
      "metadata": {
        "colab": {
          "base_uri": "https://localhost:8080/"
        },
        "id": "HqUfsY_zZey3",
        "outputId": "1db23172-3821-41c3-ac6c-0103aedfe675"
      },
      "execution_count": 25,
      "outputs": [
        {
          "output_type": "execute_result",
          "data": {
            "text/plain": [
              "('Rojo', '#FF0000')"
            ]
          },
          "metadata": {},
          "execution_count": 25
        }
      ]
    },
    {
      "cell_type": "code",
      "source": [
        "print(color_rojo_con_str)"
      ],
      "metadata": {
        "colab": {
          "base_uri": "https://localhost:8080/"
        },
        "id": "7SVAfPqZZjOd",
        "outputId": "7e22783b-751b-45ef-de9b-a1a323eb8ec1"
      },
      "execution_count": 26,
      "outputs": [
        {
          "output_type": "stream",
          "name": "stdout",
          "text": [
            "El color elejido es Rojo y su valor hexadecimal es #FF0000\n"
          ]
        }
      ]
    },
    {
      "cell_type": "markdown",
      "source": [
        "### Ejercicio 1.3"
      ],
      "metadata": {
        "id": "FQD7wlTgZnb9"
      }
    },
    {
      "cell_type": "code",
      "source": [
        "class Alumno:\n",
        "  def __init__(self, nombre, lenguaje_programacion=\"Python\", activo=True):\n",
        "    self.nombre = nombre\n",
        "    self.lenguaje_programacion = lenguaje_programacion\n",
        "    self.activo = activo\n",
        "\n",
        "  def __str__(self):\n",
        "    return f\"Alumno: {self.nombre} \\nActivo: {self.activo} \\nEstudia: {self.lenguaje_programacion}\"\n",
        ""
      ],
      "metadata": {
        "id": "nHS4G7IjZmdj"
      },
      "execution_count": 27,
      "outputs": []
    },
    {
      "cell_type": "code",
      "source": [
        "alumno1 = Alumno(\"Laura\", \"Java\", False)\n",
        "print(alumno1)"
      ],
      "metadata": {
        "colab": {
          "base_uri": "https://localhost:8080/"
        },
        "id": "jm92vHUiZ8ge",
        "outputId": "fb5e8e50-5fad-40c3-e22d-f296b0577023"
      },
      "execution_count": 28,
      "outputs": [
        {
          "output_type": "stream",
          "name": "stdout",
          "text": [
            "Alumno: Laura \n",
            "Activo: False \n",
            "Estudia: Java\n"
          ]
        }
      ]
    },
    {
      "cell_type": "code",
      "source": [
        "alumno2 = Alumno(\"Andres\")\n",
        "print(alumno2)"
      ],
      "metadata": {
        "colab": {
          "base_uri": "https://localhost:8080/"
        },
        "id": "z36A7N1NaGk8",
        "outputId": "b8b1998a-2363-46a7-fd1e-2329a1124ead"
      },
      "execution_count": 29,
      "outputs": [
        {
          "output_type": "stream",
          "name": "stdout",
          "text": [
            "Alumno: Andres \n",
            "Activo: True \n",
            "Estudia: Python\n"
          ]
        }
      ]
    },
    {
      "cell_type": "code",
      "source": [
        "class AlumnoAlkemy:\n",
        "  def __init__(self, nombre, apellido, nota_final, comision, cancelo_matricula):\n",
        "    self.nombre = nombre\n",
        "    self.apellido = apellido\n",
        "    self.nota_final = nota_final\n",
        "    self.comision = comision\n",
        "    self.cancelo_matricula = cancelo_matricula\n",
        "\n",
        "  def __str__(self):\n",
        "    return f\"Nombre: {self.nombre} Apellido: {self.apellido} \\nComision {self.comision}\"\n",
        "\n",
        "  def descargarCertificado(self):\n",
        "    if self.cancelo_matricula:\n",
        "      return f\"Felicitaciones {self.nombre} {self.apellido} obtuvo una nota final de {self.nota_final} en el examen de {self.comision}\"\n",
        "    else:\n",
        "      return f\"Por favor abone la matrícula de certificación\"\n",
        "\n"
      ],
      "metadata": {
        "id": "0ReYKwvjh4OM"
      },
      "execution_count": 30,
      "outputs": []
    },
    {
      "cell_type": "code",
      "source": [
        "alumno1 = AlumnoAlkemy(\"Lau\", \"G\", 9, \"Python\", False)\n",
        "print(alumno1)"
      ],
      "metadata": {
        "colab": {
          "base_uri": "https://localhost:8080/"
        },
        "id": "9-RHIquGksi_",
        "outputId": "394a6b9f-d22d-42f3-b1b6-049dd9c4d4e8"
      },
      "execution_count": 31,
      "outputs": [
        {
          "output_type": "stream",
          "name": "stdout",
          "text": [
            "Nombre: Lau Apellido: G \n",
            "Comision Python\n"
          ]
        }
      ]
    },
    {
      "cell_type": "code",
      "source": [
        "descargar_certificado_alumno1 = alumno1.descargarCertificado()\n",
        "descargar_certificado_alumno1"
      ],
      "metadata": {
        "colab": {
          "base_uri": "https://localhost:8080/",
          "height": 35
        },
        "id": "-2Tq2t5_lKDV",
        "outputId": "be9240d1-6949-44a6-93dc-682d20e48f8e"
      },
      "execution_count": 32,
      "outputs": [
        {
          "output_type": "execute_result",
          "data": {
            "text/plain": [
              "'Por favor abone la matrícula de certificación'"
            ],
            "application/vnd.google.colaboratory.intrinsic+json": {
              "type": "string"
            }
          },
          "metadata": {},
          "execution_count": 32
        }
      ]
    },
    {
      "cell_type": "code",
      "source": [
        "alumno2 = AlumnoAlkemy(\"Lau\", \"G\", 9, \"Python\", True)\n",
        "print(alumno2)"
      ],
      "metadata": {
        "colab": {
          "base_uri": "https://localhost:8080/"
        },
        "id": "TMe1joRzmUdO",
        "outputId": "b82f2196-ba17-427e-fb26-a3c2bb348314"
      },
      "execution_count": 33,
      "outputs": [
        {
          "output_type": "stream",
          "name": "stdout",
          "text": [
            "Nombre: Lau Apellido: G \n",
            "Comision Python\n"
          ]
        }
      ]
    },
    {
      "cell_type": "code",
      "source": [
        "descargar_certificado_alumno2 = alumno2.descargarCertificado()\n",
        "descargar_certificado_alumno2"
      ],
      "metadata": {
        "colab": {
          "base_uri": "https://localhost:8080/",
          "height": 35
        },
        "id": "7AOheAREmZ9E",
        "outputId": "d6d4154a-535d-47c9-d756-2ec4a4ff0798"
      },
      "execution_count": 34,
      "outputs": [
        {
          "output_type": "execute_result",
          "data": {
            "text/plain": [
              "'Felicitaciones Lau G obtuvo una nota final de 9 en el examen de Python'"
            ],
            "application/vnd.google.colaboratory.intrinsic+json": {
              "type": "string"
            }
          },
          "metadata": {},
          "execution_count": 34
        }
      ]
    },
    {
      "cell_type": "markdown",
      "source": [
        "### Ejercicio 1.4"
      ],
      "metadata": {
        "id": "Q14JqE20aRT7"
      }
    },
    {
      "cell_type": "code",
      "source": [
        "class Moto():\n",
        "  def __init__(self, marca, capacidad_tanque, rendimiento, tiempo_andando, velocidad_media) -> None:\n",
        "    self.marca = marca\n",
        "    self.capacidad_tanque = capacidad_tanque\n",
        "    self.rendimiento = rendimiento\n",
        "    self.tiempo_andando = tiempo_andando\n",
        "    self.velocidad_media = velocidad_media\n",
        "\n",
        "  def __str__(self):\n",
        "    return f\"La moto {self.marca} lleva una velocidad de {self.velocidad_media} k/m y hace {self.tiempo_andando} hs que está andando\"\n",
        "\n",
        "  def distanciaRestante(self):\n",
        "    return (self.capacidad_tanque * self.rendimiento) - (self.tiempo_andando * self.velocidad_media)"
      ],
      "metadata": {
        "id": "B2UTxtLnaTpe"
      },
      "execution_count": 35,
      "outputs": []
    },
    {
      "cell_type": "code",
      "source": [
        "moto1 = Moto(\"Honda\", 20, 5, 3, 30)\n",
        "print(moto1)"
      ],
      "metadata": {
        "colab": {
          "base_uri": "https://localhost:8080/"
        },
        "id": "DrNTYAa2cNxv",
        "outputId": "764ce590-c0f1-4b26-8506-3081a88c9901"
      },
      "execution_count": 36,
      "outputs": [
        {
          "output_type": "stream",
          "name": "stdout",
          "text": [
            "La moto Honda lleva una velocidad de 30 k/m y hace 3 hs que está andando\n"
          ]
        }
      ]
    },
    {
      "cell_type": "code",
      "source": [
        "distancia_restante_moto1 = moto1.distanciaRestante()\n",
        "distancia_restante_moto1"
      ],
      "metadata": {
        "colab": {
          "base_uri": "https://localhost:8080/"
        },
        "id": "mQl75nGPcZFw",
        "outputId": "54da69f8-117f-4e1b-92fb-8384a2e0a93b"
      },
      "execution_count": 37,
      "outputs": [
        {
          "output_type": "execute_result",
          "data": {
            "text/plain": [
              "10"
            ]
          },
          "metadata": {},
          "execution_count": 37
        }
      ]
    },
    {
      "cell_type": "markdown",
      "source": [
        "### Ejercicio 1.5"
      ],
      "metadata": {
        "id": "UeD2lXGycpWY"
      }
    },
    {
      "cell_type": "code",
      "source": [
        "class Vehiculo():\n",
        "  def __init__(self, marca, modelo, color, velocidad=0) -> None:\n",
        "    self.marca = marca\n",
        "    self.modelo = modelo\n",
        "    self.color = color\n",
        "    self.velocidad = velocidad\n",
        "\n",
        "  def __str__(self):\n",
        "    return f\"Marca: {self.marca} \\nModelo: {self.modelo} \\nColor: {self.color}\"\n",
        "\n",
        "  def acelerar(self, incremento):\n",
        "    self.velocidad += incremento\n",
        "    print(f\"El vehiculo {self.marca} {self.modelo} acelera a {self.velocidad} km/h\")\n",
        "\n",
        "  def girar(self, direccion):\n",
        "    print(f\"El vehiculo {self.marca} {self.modelo} gira hacia {direccion}\")\n",
        "\n",
        "  def frenar(self, decremento):\n",
        "    if self.velocidad - decremento > 0:\n",
        "      self.velocidad -= decremento\n",
        "      print(f\"El vehiculo frena a {self.velocidad} km/h\")\n",
        "    else:\n",
        "      print(\"El vehiculo está detenido\")\n",
        "\n",
        "  def estacionar(self):\n",
        "    print(f\"El vehiculo {self.marca} {self.modelo} se está estacionando\")"
      ],
      "metadata": {
        "id": "ycVkUaldcsIh"
      },
      "execution_count": 38,
      "outputs": []
    },
    {
      "cell_type": "code",
      "source": [
        "vehiculo1 = Vehiculo(\"Honda\", \"Fit\", \"gris\")\n",
        "print(vehiculo1)"
      ],
      "metadata": {
        "colab": {
          "base_uri": "https://localhost:8080/"
        },
        "id": "15awq1ytn-i3",
        "outputId": "6c1a8a40-4a21-4ed3-b4f9-081d69fda6a3"
      },
      "execution_count": 39,
      "outputs": [
        {
          "output_type": "stream",
          "name": "stdout",
          "text": [
            "Marca: Honda \n",
            "Modelo: Fit \n",
            "Color: gris\n"
          ]
        }
      ]
    },
    {
      "cell_type": "code",
      "source": [
        "vehiculo1.acelerar(50)"
      ],
      "metadata": {
        "colab": {
          "base_uri": "https://localhost:8080/"
        },
        "id": "RdLH9XrYoaCM",
        "outputId": "0274aafd-70b8-4ddd-aabc-446c8295d9a4"
      },
      "execution_count": 40,
      "outputs": [
        {
          "output_type": "stream",
          "name": "stdout",
          "text": [
            "El vehiculo Honda Fit acelera a 50 km/h\n"
          ]
        }
      ]
    },
    {
      "cell_type": "code",
      "source": [
        "vehiculo1.girar(\"derecha\")"
      ],
      "metadata": {
        "colab": {
          "base_uri": "https://localhost:8080/"
        },
        "id": "lZhfnvokoeZB",
        "outputId": "c7ab82c0-764c-4a76-987e-3b594a8d4aa8"
      },
      "execution_count": 41,
      "outputs": [
        {
          "output_type": "stream",
          "name": "stdout",
          "text": [
            "El vehiculo Honda Fit gira hacia derecha\n"
          ]
        }
      ]
    },
    {
      "cell_type": "code",
      "source": [
        "vehiculo1.frenar(30)"
      ],
      "metadata": {
        "colab": {
          "base_uri": "https://localhost:8080/"
        },
        "id": "yEcjfLfOosKI",
        "outputId": "0342f5c4-c7a1-40a4-c875-75ee291e587e"
      },
      "execution_count": 42,
      "outputs": [
        {
          "output_type": "stream",
          "name": "stdout",
          "text": [
            "El vehiculo frena a 20 km/h\n"
          ]
        }
      ]
    },
    {
      "cell_type": "code",
      "source": [
        "vehiculo1.frenar(100)"
      ],
      "metadata": {
        "colab": {
          "base_uri": "https://localhost:8080/"
        },
        "id": "lmWo0lFNojyk",
        "outputId": "b291bada-4913-4297-ee39-8b69d04dab6f"
      },
      "execution_count": 43,
      "outputs": [
        {
          "output_type": "stream",
          "name": "stdout",
          "text": [
            "El vehiculo está detenido\n"
          ]
        }
      ]
    },
    {
      "cell_type": "code",
      "source": [
        "vehiculo1.estacionar()"
      ],
      "metadata": {
        "colab": {
          "base_uri": "https://localhost:8080/"
        },
        "id": "iHw5D6UPpnXm",
        "outputId": "26a71c2c-2250-42be-c974-06f71c9c088e"
      },
      "execution_count": 44,
      "outputs": [
        {
          "output_type": "stream",
          "name": "stdout",
          "text": [
            "El vehiculo Honda Fit se está estacionando\n"
          ]
        }
      ]
    },
    {
      "cell_type": "code",
      "source": [
        "vehiculo2 = Vehiculo(\"Ford\", \"Fiesta\", \"azul\", 30)\n",
        "print(vehiculo2)\n",
        "vehiculo2.acelerar(30)\n",
        "vehiculo2.girar(\"derecha\")\n",
        "vehiculo2.frenar(60)"
      ],
      "metadata": {
        "colab": {
          "base_uri": "https://localhost:8080/"
        },
        "id": "MmMB_4SAp-gk",
        "outputId": "3e426895-88d0-4db1-b164-249b94c2c229"
      },
      "execution_count": 45,
      "outputs": [
        {
          "output_type": "stream",
          "name": "stdout",
          "text": [
            "Marca: Ford \n",
            "Modelo: Fiesta \n",
            "Color: azul\n",
            "El vehiculo Ford Fiesta acelera a 60 km/h\n",
            "El vehiculo Ford Fiesta gira hacia derecha\n",
            "El vehiculo está detenido\n"
          ]
        }
      ]
    },
    {
      "cell_type": "markdown",
      "source": [
        "### Atributos públicos y privados"
      ],
      "metadata": {
        "id": "aVuI75cLiB7o"
      }
    },
    {
      "cell_type": "markdown",
      "source": [
        "### Ejercicio 1.6"
      ],
      "metadata": {
        "id": "aX6pSLSyqJmr"
      }
    },
    {
      "cell_type": "code",
      "source": [
        "class EmpleadoAlkemy():\n",
        "  def __init__(self, nombre, cuit, cargo, factura_ultimo_mes=True):\n",
        "    self.__nombre = nombre\n",
        "    self.__cuit = cuit\n",
        "    self.__cargo = cargo\n",
        "    self.__factura_ultimo_mes = factura_ultimo_mes\n",
        "\n",
        "  def __str__(self):\n",
        "    return f\"El empleado {self.__nombre} cumple el rol de {self.__cargo}\"\n",
        "\n",
        "  def depositarSueldo(self):\n",
        "    if self.__factura_ultimo_mes:\n",
        "      return f\"A {self.__nombre} se le depositará el sueldo de {self.__cargo} en la cuenta del cuit {self.__cuit}\"\n",
        "    else:\n",
        "      return f\"No facturo este mes\"\n"
      ],
      "metadata": {
        "id": "ii1HIfbfqMBZ"
      },
      "execution_count": 46,
      "outputs": []
    },
    {
      "cell_type": "code",
      "source": [
        "empleado1 = EmpleadoAlkemy(\"Andres\", 123123, \"profesor\", True)\n",
        "print(empleado1)"
      ],
      "metadata": {
        "colab": {
          "base_uri": "https://localhost:8080/"
        },
        "id": "x3xDId4Jrcdz",
        "outputId": "9a78ca72-bf10-4750-a73e-6a2680fc48fe"
      },
      "execution_count": 52,
      "outputs": [
        {
          "output_type": "stream",
          "name": "stdout",
          "text": [
            "El empleado Andres cumple el rol de profesor\n"
          ]
        }
      ]
    },
    {
      "cell_type": "code",
      "source": [
        "empleado1.depositarSueldo()"
      ],
      "metadata": {
        "colab": {
          "base_uri": "https://localhost:8080/",
          "height": 35
        },
        "id": "qX36T6pSscDm",
        "outputId": "cda1ce2e-a5e0-488c-e520-d0e28c67d0eb"
      },
      "execution_count": 53,
      "outputs": [
        {
          "output_type": "execute_result",
          "data": {
            "text/plain": [
              "'A Andres se le depositará el sueldo de profesor en la cuenta del cuit 123123'"
            ],
            "application/vnd.google.colaboratory.intrinsic+json": {
              "type": "string"
            }
          },
          "metadata": {},
          "execution_count": 53
        }
      ]
    },
    {
      "cell_type": "code",
      "source": [
        "empleado1.cuit = 6666666\n",
        "empleado1.depositarSueldo()"
      ],
      "metadata": {
        "colab": {
          "base_uri": "https://localhost:8080/",
          "height": 35
        },
        "id": "1keN3EAGfusf",
        "outputId": "99cbe743-0c0e-441c-f8b8-6ea38db5717a"
      },
      "execution_count": 54,
      "outputs": [
        {
          "output_type": "execute_result",
          "data": {
            "text/plain": [
              "'A Andres se le depositará el sueldo de profesor en la cuenta del cuit 123123'"
            ],
            "application/vnd.google.colaboratory.intrinsic+json": {
              "type": "string"
            }
          },
          "metadata": {},
          "execution_count": 54
        }
      ]
    },
    {
      "cell_type": "code",
      "source": [
        "class EmpleadoAlkemy():\n",
        "  def __init__(self, nombre, cuit, cargo, factura_ultimo_mes=True):\n",
        "    self.__nombre = nombre\n",
        "    self.__cuit = cuit\n",
        "    self.cargo = cargo\n",
        "    self.__factura_ultimo_mes = factura_ultimo_mes\n",
        "\n",
        "  def __str__(self):\n",
        "    return f\"El empleado {self.__nombre} cumple el rol de {self.cargo}\"\n",
        "\n",
        "  def depositarSueldo(self):\n",
        "    if self.__factura_ultimo_mes:\n",
        "      return f\"A {self.__nombre} se le depositará el sueldo de {self.cargo} en la cuenta del cuit {self.__cuit}\"\n",
        "    else:\n",
        "      return f\"No facturo este mes\""
      ],
      "metadata": {
        "id": "3VbKOW2CgKLM"
      },
      "execution_count": 55,
      "outputs": []
    },
    {
      "cell_type": "code",
      "source": [
        "empleado1 = EmpleadoAlkemy(\"Andres\", 123123, \"profesor\", True)\n",
        "print(empleado1)\n"
      ],
      "metadata": {
        "colab": {
          "base_uri": "https://localhost:8080/"
        },
        "id": "a3yHjBMHhXBi",
        "outputId": "25799555-c3ae-4296-f466-cf200a587a13"
      },
      "execution_count": 56,
      "outputs": [
        {
          "output_type": "stream",
          "name": "stdout",
          "text": [
            "El empleado Andres cumple el rol de profesor\n"
          ]
        }
      ]
    },
    {
      "cell_type": "code",
      "source": [
        "empleado1.cargo = \"coordinador\"\n",
        "print(empleado1)"
      ],
      "metadata": {
        "colab": {
          "base_uri": "https://localhost:8080/"
        },
        "id": "wWDqB-fahpOX",
        "outputId": "074604bd-b0bc-4b03-87fc-5a303a3b19b6"
      },
      "execution_count": 57,
      "outputs": [
        {
          "output_type": "stream",
          "name": "stdout",
          "text": [
            "El empleado Andres cumple el rol de coordinador\n"
          ]
        }
      ]
    }
  ]
}