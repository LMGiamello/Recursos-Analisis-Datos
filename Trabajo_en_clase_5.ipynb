{
  "nbformat": 4,
  "nbformat_minor": 0,
  "metadata": {
    "colab": {
      "provenance": [],
      "authorship_tag": "ABX9TyMgWbuNpEMHkauWDtvz86C5",
      "include_colab_link": true
    },
    "kernelspec": {
      "name": "python3",
      "display_name": "Python 3"
    },
    "language_info": {
      "name": "python"
    }
  },
  "cells": [
    {
      "cell_type": "markdown",
      "metadata": {
        "id": "view-in-github",
        "colab_type": "text"
      },
      "source": [
        "<a href=\"https://colab.research.google.com/github/LMGiamello/Recursos-Analisis-Datos/blob/main/Trabajo_en_clase_5.ipynb\" target=\"_parent\"><img src=\"https://colab.research.google.com/assets/colab-badge.svg\" alt=\"Open In Colab\"/></a>"
      ]
    },
    {
      "cell_type": "markdown",
      "source": [
        "# Clase 5\n",
        "\n",
        "## Intro a Python"
      ],
      "metadata": {
        "id": "300mpnwuB35o"
      }
    },
    {
      "cell_type": "code",
      "execution_count": null,
      "metadata": {
        "id": "rA0F5PZQqnK3",
        "colab": {
          "base_uri": "https://localhost:8080/"
        },
        "outputId": "67a27e3b-2e75-429d-fde0-76be14e0f644"
      },
      "outputs": [
        {
          "output_type": "stream",
          "name": "stdout",
          "text": [
            "Hola desde Colab\n"
          ]
        }
      ],
      "source": [
        "print (\"Hola desde Colab\")"
      ]
    },
    {
      "cell_type": "markdown",
      "source": [
        "## IF ELSE ELIF\n",
        "\n",
        "Ejemplos en Pythom"
      ],
      "metadata": {
        "id": "LGukhUnxI_M8"
      }
    },
    {
      "cell_type": "markdown",
      "source": [
        "### Ejercicio 1.0\n",
        "Demostración utilización de if en Python"
      ],
      "metadata": {
        "id": "ZnneCBT5JnUY"
      }
    },
    {
      "cell_type": "code",
      "source": [
        "variable_de_prueba = 5\n",
        "\n",
        "if variable_de_prueba > 0: # Nuestro if pregunta a la variable de prueba si es mayor que 0\n",
        "  print(\"La venta dio ganancias\") # en caso de ser mayor que 0, se ejecuta el print"
      ],
      "metadata": {
        "colab": {
          "base_uri": "https://localhost:8080/"
        },
        "id": "zhl-4Zl3KFiQ",
        "outputId": "0ddf4deb-3956-47d2-df0f-f85429c1ab01"
      },
      "execution_count": null,
      "outputs": [
        {
          "output_type": "stream",
          "name": "stdout",
          "text": [
            "La venta dio ganancias\n"
          ]
        }
      ]
    },
    {
      "cell_type": "markdown",
      "source": [
        "### Ejercicio 1.1\n",
        "\n",
        "En este caso vamos a crear una variable edad, si esta es mayor o igual a 18 años imprimimos el msj \"Usted es mayor de edad\""
      ],
      "metadata": {
        "id": "1IFie8ZvOGd3"
      }
    },
    {
      "cell_type": "code",
      "source": [
        "variable_edad = 10\n",
        "mayoria_edad = 18\n",
        "\n",
        "if variable_edad >= 18:\n",
        "  print(\"Usted es mayor de edad\")"
      ],
      "metadata": {
        "id": "_yPtOaZxOZ50"
      },
      "execution_count": null,
      "outputs": []
    },
    {
      "cell_type": "markdown",
      "source": [
        "### Ejercicio 1.2\n",
        "\n",
        "Usamos else cuando la persona no tiene la edad requerida, ej preguntamos si la persona tiene la edad mínima para votar"
      ],
      "metadata": {
        "id": "76R2J9R6O-rW"
      }
    },
    {
      "cell_type": "code",
      "source": [
        "edad_votante = 20\n",
        "edad_minima_votar = 16\n",
        "\n",
        "if edad_votante >= edad_minima_votar:\n",
        "  print(\"Usted puede votar\")\n",
        "else:\n",
        "  print(\"No tiene la edad para votar\")"
      ],
      "metadata": {
        "colab": {
          "base_uri": "https://localhost:8080/"
        },
        "id": "pUb4Rx8tPPNk",
        "outputId": "51e5cdd4-01d5-4c25-ef3e-750f1cdae665"
      },
      "execution_count": null,
      "outputs": [
        {
          "output_type": "stream",
          "name": "stdout",
          "text": [
            "Usted puede votar\n"
          ]
        }
      ]
    },
    {
      "cell_type": "code",
      "source": [
        "edad_votante = 4\n",
        "edad_minima_votar = 16\n",
        "\n",
        "if edad_votante >= edad_minima_votar:\n",
        "  print(\"Usted puede votar\")\n",
        "else:\n",
        "  print(\"No tiene la edad para votar\")"
      ],
      "metadata": {
        "colab": {
          "base_uri": "https://localhost:8080/"
        },
        "id": "gFaXKnttPvO3",
        "outputId": "12d2d921-fa37-454d-ba84-9c81d341c10f"
      },
      "execution_count": null,
      "outputs": [
        {
          "output_type": "stream",
          "name": "stdout",
          "text": [
            "No tiene la edad para votar\n"
          ]
        }
      ]
    },
    {
      "cell_type": "markdown",
      "source": [
        "### Ejercicio 1.3\n",
        "\n",
        "if con booleanos"
      ],
      "metadata": {
        "id": "cYNzZwGTPzIo"
      }
    },
    {
      "cell_type": "code",
      "source": [
        "es_profesor = True\n",
        "\n",
        "if es_profesor == True:\n",
        "  print(\"Bienvenido profe a la clase\")\n",
        "else:\n",
        "  print(\"Bienvenido alumno\")"
      ],
      "metadata": {
        "colab": {
          "base_uri": "https://localhost:8080/"
        },
        "id": "8rg7ylUGP9Yt",
        "outputId": "9accdf72-ccf7-4a7c-9442-d58eb6286a75"
      },
      "execution_count": null,
      "outputs": [
        {
          "output_type": "stream",
          "name": "stdout",
          "text": [
            "Bienvenido profe a la clase\n"
          ]
        }
      ]
    },
    {
      "cell_type": "code",
      "source": [
        "es_profesor = True\n",
        "\n",
        "if es_profesor:\n",
        "  print(\"Bienvenido profe a la clase\")\n",
        "else:\n",
        "  print(\"Bienvenido alumno\")"
      ],
      "metadata": {
        "colab": {
          "base_uri": "https://localhost:8080/"
        },
        "id": "UTC6_9D-QqWi",
        "outputId": "788cc582-34ad-4ce7-ddaa-21107d1745b9"
      },
      "execution_count": null,
      "outputs": [
        {
          "output_type": "stream",
          "name": "stdout",
          "text": [
            "Bienvenido profe a la clase\n"
          ]
        }
      ]
    },
    {
      "cell_type": "markdown",
      "source": [
        "### Ejercicio 1.4\n",
        "\n",
        "if con strings"
      ],
      "metadata": {
        "id": "TNmLH-otRuYJ"
      }
    },
    {
      "cell_type": "code",
      "source": [
        "pais1 = \"argentina\"\n",
        "pais2 = \"chile\"\n",
        "pais3 = \"Argentina\"\n",
        "\n",
        "\n",
        "if pais1 == pais2:\n",
        "  print(\"Los países son iguales\")\n",
        "else:\n",
        "  print(\"Los países son diferentes\")\n",
        "\n",
        "\n",
        "if pais1 == pais3:\n",
        "  print(\"Los países son iguales\")\n",
        "else:\n",
        "  print(\"Los países son diferentes\")\n"
      ],
      "metadata": {
        "colab": {
          "base_uri": "https://localhost:8080/"
        },
        "id": "Y-ZyFk7SR1k7",
        "outputId": "c7340de1-d8c1-4972-81dd-8a4a5db93574"
      },
      "execution_count": null,
      "outputs": [
        {
          "output_type": "stream",
          "name": "stdout",
          "text": [
            "Los países son diferentes\n",
            "Los países son diferentes\n"
          ]
        }
      ]
    },
    {
      "cell_type": "markdown",
      "source": [
        "### Ejercicio 1.5\n",
        "\n",
        "Aplicar diferentes condiciones\n",
        "\n",
        "elif\n"
      ],
      "metadata": {
        "id": "qSp4I1YDSsXL"
      }
    },
    {
      "cell_type": "code",
      "source": [
        "animal = \"gato\"\n",
        "\n",
        "if animal == \"perro\": #Condicion if inicial\n",
        "    print(\"En esta veterinaria si atendemos perros\") #Ejecución código if\n",
        "elif animal == \"gato\": #Condición elif\n",
        "    print(\"En esta veterinaria si atendemos gatos\") #Ejecución código elif\n",
        "else:\n",
        "    print(\"En esta veterinaria solo atendemos perros y gatos\") #Ejecución código else"
      ],
      "metadata": {
        "colab": {
          "base_uri": "https://localhost:8080/"
        },
        "id": "eOjnrlj4S7uw",
        "outputId": "c5fa06c9-2c26-4e9e-8863-006e376bb856"
      },
      "execution_count": null,
      "outputs": [
        {
          "output_type": "stream",
          "name": "stdout",
          "text": [
            "En esta veterinaria si atendemos gatos\n"
          ]
        }
      ]
    },
    {
      "cell_type": "code",
      "source": [
        "animal = \"rana\"\n",
        "\n",
        "if animal == \"perro\": #Condicion if inicial\n",
        "    print(\"En esta veterinaria si atendemos perros\") #Ejecución código if\n",
        "elif animal == \"gato\": #Condición elif\n",
        "    print(\"En esta veterinaria si atendemos gatos\") #Ejecución código elif\n",
        "else:\n",
        "    print(\"En esta veterinaria solo atendemos perros y gatos\") #Ejecución código else"
      ],
      "metadata": {
        "colab": {
          "base_uri": "https://localhost:8080/"
        },
        "id": "qacTzQWxT70M",
        "outputId": "b8d94829-9868-48a2-9074-0ffea3bb805a"
      },
      "execution_count": null,
      "outputs": [
        {
          "output_type": "stream",
          "name": "stdout",
          "text": [
            "En esta veterinaria solo atendemos perros y gatos\n"
          ]
        }
      ]
    },
    {
      "cell_type": "markdown",
      "source": [
        "### Ejercicio 1.6\n",
        "\n",
        "varios elif"
      ],
      "metadata": {
        "id": "8rWHryf4TrvI"
      }
    },
    {
      "cell_type": "code",
      "source": [
        "color_primario = \"azul\"\n",
        "\n",
        "if color_primario == \"azul\": #Condicion if inicial\n",
        "    print(\"Color primario seleccionado: azul\")\n",
        "elif color_primario == \"rojo\": #Condición elif\n",
        "    print(\"Color primario seleccionado: rojo\")\n",
        "elif color_primario == \"amarillo\": #Condición elif\n",
        "    print(\"Color primario seleccionado: amarillo\")\n",
        "else:\n",
        "    print(\"No a seleccionado un color primario\") #Ejecución código else"
      ],
      "metadata": {
        "colab": {
          "base_uri": "https://localhost:8080/"
        },
        "id": "26hpf107TyNC",
        "outputId": "b04f4520-7061-46a1-9b86-090647d6d4a9"
      },
      "execution_count": null,
      "outputs": [
        {
          "output_type": "stream",
          "name": "stdout",
          "text": [
            "Color primario seleccionado: azul\n"
          ]
        }
      ]
    },
    {
      "cell_type": "code",
      "source": [
        "color_ingresado = \"rojo\"\n",
        "\n",
        "if color_ingresado == \"azul\":\n",
        "    print(\"Color primario seleccionado:\", color_ingresado)\n",
        "elif color_ingresado == \"rojo\":\n",
        "    print(\"Color primario seleccionado:\", color_ingresado)\n",
        "elif color_ingresado == \"amarillo\":\n",
        "    print(\"Color primario seleccionado:\", color_ingresado)\n",
        "else:\n",
        "    print(\"No ha seleccionado un color primario\")"
      ],
      "metadata": {
        "colab": {
          "base_uri": "https://localhost:8080/"
        },
        "id": "Bqfswxr2Ulkx",
        "outputId": "bb880935-01ea-4d51-b3a4-a290fe8eee42"
      },
      "execution_count": null,
      "outputs": [
        {
          "output_type": "stream",
          "name": "stdout",
          "text": [
            "Color primario seleccionado: rojo\n"
          ]
        }
      ]
    },
    {
      "cell_type": "markdown",
      "source": [
        "### Ejercicio 1.7\n",
        "\n",
        "Operador lógico AND"
      ],
      "metadata": {
        "id": "4Q6ZhKTxVrT5"
      }
    },
    {
      "cell_type": "code",
      "source": [
        "edad = 70\n",
        "genero = \"M\"\n",
        "\n",
        "if (edad >= 65) & (genero == \"M\"): #Defino if el cual debe cumplir 2 condiciones\n",
        "    print(\"usted se encuentra en edad jubilatoria\") #Código a ejecutar cuando se cumpla el if\n",
        "elif (edad >= 62) & (genero == \"F\"): #Defino elif el cual debe cumplir 2 condiciones\n",
        "    print(\"usted se encuentra en edad jubilatoria\") #Código a ejecutar cuando se cumpla el elif\n",
        "else: #Defino else\n",
        "    print(\"no se encuentra en edad jubilatoria\") #Código a ejecutar en el else"
      ],
      "metadata": {
        "colab": {
          "base_uri": "https://localhost:8080/"
        },
        "id": "NCGsf8i2VqsZ",
        "outputId": "4a770dc9-eb90-4a3d-d830-cde7c60cdf0e"
      },
      "execution_count": null,
      "outputs": [
        {
          "output_type": "stream",
          "name": "stdout",
          "text": [
            "usted se encuentra en edad jubilatoria\n"
          ]
        }
      ]
    },
    {
      "cell_type": "code",
      "source": [
        "edad = 50\n",
        "genero = \"M\"\n",
        "\n",
        "if (edad >= 65) & (genero == \"M\"): #Defino if el cual debe cumplir 2 condiciones\n",
        "    print(\"usted se encuentra en edad jubilatoria\") #Código a ejecutar cuando se cumpla el if\n",
        "elif (edad >= 62) & (genero == \"F\"): #Defino elif el cual debe cumplir 2 condiciones\n",
        "    print(\"usted se encuentra en edad jubilatoria\") #Código a ejecutar cuando se cumpla el elif\n",
        "else: #Defino else\n",
        "    print(\"no se encuentra en edad jubilatoria\") #Código a ejecutar en el else"
      ],
      "metadata": {
        "colab": {
          "base_uri": "https://localhost:8080/"
        },
        "id": "tosjKS9SWoqb",
        "outputId": "ce8b5d3e-855c-432d-8fc9-41ac5f71d08b"
      },
      "execution_count": null,
      "outputs": [
        {
          "output_type": "stream",
          "name": "stdout",
          "text": [
            "no se encuentra en edad jubilatoria\n"
          ]
        }
      ]
    },
    {
      "cell_type": "code",
      "source": [
        "edad = 65\n",
        "genero = \"F\"\n",
        "\n",
        "if (edad >= 65) & (genero == \"M\"): #Defino if el cual debe cumplir 2 condiciones\n",
        "    print(\"usted se encuentra en edad jubilatoria\") #Código a ejecutar cuando se cumpla el if\n",
        "elif (edad >= 62) & (genero == \"F\"): #Defino elif el cual debe cumplir 2 condiciones\n",
        "    print(\"usted se encuentra en edad jubilatoria\") #Código a ejecutar cuando se cumpla el elif\n",
        "else: #Defino else\n",
        "    print(\"no se encuentra en edad jubilatoria\") #Código a ejecutar en el else"
      ],
      "metadata": {
        "colab": {
          "base_uri": "https://localhost:8080/"
        },
        "id": "ajCsC0X3WrqY",
        "outputId": "ddfc0c00-a97d-49e2-b80b-9a11cfb95c9d"
      },
      "execution_count": null,
      "outputs": [
        {
          "output_type": "stream",
          "name": "stdout",
          "text": [
            "usted se encuentra en edad jubilatoria\n"
          ]
        }
      ]
    },
    {
      "cell_type": "markdown",
      "source": [
        "### Ejercicio 1.8\n",
        "\n",
        "Operador lógico OR"
      ],
      "metadata": {
        "id": "1dpnZWu4XRAD"
      }
    },
    {
      "cell_type": "code",
      "source": [
        "cargo = \"profesor\"\n",
        "\n",
        "if (cargo == \"profesor\") | (cargo == \"coordinador\" ):\n",
        "    print(\"Es empleado\")\n",
        "else:\n",
        "    print(\"Es alumno\")"
      ],
      "metadata": {
        "colab": {
          "base_uri": "https://localhost:8080/"
        },
        "id": "aiV0R7DEXYD6",
        "outputId": "516593f9-f467-4a36-ba19-4fabf7e0d35d"
      },
      "execution_count": null,
      "outputs": [
        {
          "output_type": "stream",
          "name": "stdout",
          "text": [
            "Es empleado\n"
          ]
        }
      ]
    },
    {
      "cell_type": "code",
      "source": [
        "cargo = \"Laura\"\n",
        "\n",
        "if (cargo == \"profesor\") | (cargo == \"coordinador\" ):\n",
        "    print(\"Es empleado\")\n",
        "else:\n",
        "    print(\"Es alumno\")"
      ],
      "metadata": {
        "colab": {
          "base_uri": "https://localhost:8080/"
        },
        "id": "5qVThDdVX5kg",
        "outputId": "805103c7-defc-44f6-faba-3eba640e3305"
      },
      "execution_count": null,
      "outputs": [
        {
          "output_type": "stream",
          "name": "stdout",
          "text": [
            "Es alumno\n"
          ]
        }
      ]
    },
    {
      "cell_type": "markdown",
      "source": [
        "### Ejercicio 1.9\n",
        "\n",
        "Operador lógico NOT"
      ],
      "metadata": {
        "id": "9zPdzVvUXg9K"
      }
    },
    {
      "cell_type": "code",
      "source": [
        "numero_entero = 1\n",
        "\n",
        "if not type(numero_entero) == int: #Defino una condición if que solo se active cuando el tipo de dato no es integer\n",
        "    print(\"Por favor cambie el típo de dato a entero\")"
      ],
      "metadata": {
        "id": "EQyuRgcSXoAy"
      },
      "execution_count": null,
      "outputs": []
    },
    {
      "cell_type": "code",
      "source": [
        "numero_entero = 4.5\n",
        "\n",
        "if not type(numero_entero) == int: #Defino una condición if que solo se active cuando el tipo de dato no es integer\n",
        "    print(\"Por favor cambie el típo de dato a entero\")"
      ],
      "metadata": {
        "colab": {
          "base_uri": "https://localhost:8080/"
        },
        "id": "sxJaSdAMXzBk",
        "outputId": "09ee9777-9fd7-4856-f28d-3e6f6236e314"
      },
      "execution_count": null,
      "outputs": [
        {
          "output_type": "stream",
          "name": "stdout",
          "text": [
            "Por favor cambie el típo de dato a entero\n"
          ]
        }
      ]
    },
    {
      "cell_type": "markdown",
      "source": [
        "# FUNCIONES NATIVAS\n"
      ],
      "metadata": {
        "id": "aPqJ4oiV5tFm"
      }
    },
    {
      "cell_type": "markdown",
      "source": [
        "### Ejercicio 2.1\n",
        "\n",
        "print()"
      ],
      "metadata": {
        "id": "CcgjM8jy6FeX"
      }
    },
    {
      "cell_type": "code",
      "source": [
        "nombre = \"Laura\"\n",
        "edad = 41\n",
        "print(\"Nombre:\", nombre, \"\\n\" \"Edad:\", edad)"
      ],
      "metadata": {
        "id": "B8YTv3PS5ubr",
        "outputId": "3f852bf6-bf7a-4cf3-f5cb-969696e8371e",
        "colab": {
          "base_uri": "https://localhost:8080/"
        }
      },
      "execution_count": null,
      "outputs": [
        {
          "output_type": "stream",
          "name": "stdout",
          "text": [
            "Nombre: Laura \n",
            "Edad: 41\n"
          ]
        }
      ]
    },
    {
      "cell_type": "markdown",
      "source": [
        "type()\n"
      ],
      "metadata": {
        "id": "cprHuA5M_LR2"
      }
    },
    {
      "cell_type": "code",
      "source": [
        "type(edad)"
      ],
      "metadata": {
        "id": "pevxMUd__Qqt",
        "outputId": "aa89c7f2-7e86-4522-e5ea-f9dfeb67e0e5",
        "colab": {
          "base_uri": "https://localhost:8080/"
        }
      },
      "execution_count": null,
      "outputs": [
        {
          "output_type": "execute_result",
          "data": {
            "text/plain": [
              "int"
            ]
          },
          "metadata": {},
          "execution_count": 26
        }
      ]
    },
    {
      "cell_type": "code",
      "source": [
        "type(nombre)"
      ],
      "metadata": {
        "id": "1KTKAlof_ZCi",
        "outputId": "bb8b1eeb-fbad-43e3-92d8-bc0674fe2e8f",
        "colab": {
          "base_uri": "https://localhost:8080/"
        }
      },
      "execution_count": null,
      "outputs": [
        {
          "output_type": "execute_result",
          "data": {
            "text/plain": [
              "str"
            ]
          },
          "metadata": {},
          "execution_count": 27
        }
      ]
    },
    {
      "cell_type": "code",
      "source": [
        "type(es_profesor)"
      ],
      "metadata": {
        "id": "EEG7Ts___tTh",
        "outputId": "05049f2b-0138-40bd-d54b-3c2fed94a6ab",
        "colab": {
          "base_uri": "https://localhost:8080/"
        }
      },
      "execution_count": null,
      "outputs": [
        {
          "output_type": "execute_result",
          "data": {
            "text/plain": [
              "bool"
            ]
          },
          "metadata": {},
          "execution_count": 28
        }
      ]
    },
    {
      "cell_type": "markdown",
      "source": [
        "exec()"
      ],
      "metadata": {
        "id": "52fAaJt__0Sb"
      }
    },
    {
      "cell_type": "code",
      "source": [
        "codigo = 'print(\"Hola soy un print disfrazado de string\")'\n",
        "\n",
        "codigo, type(codigo)"
      ],
      "metadata": {
        "id": "jXz7NEiJ_2XF",
        "outputId": "e57b60e4-f463-4ca9-e7ca-17957701851d",
        "colab": {
          "base_uri": "https://localhost:8080/"
        }
      },
      "execution_count": null,
      "outputs": [
        {
          "output_type": "execute_result",
          "data": {
            "text/plain": [
              "('print(\"Hola soy un print disfrazado de string\")', str)"
            ]
          },
          "metadata": {},
          "execution_count": 34
        }
      ]
    },
    {
      "cell_type": "code",
      "source": [
        "exec(codigo)"
      ],
      "metadata": {
        "id": "3oegNXnWA-E1",
        "outputId": "864c3d2b-5b95-4f6c-8b24-6ed7d0eb729e",
        "colab": {
          "base_uri": "https://localhost:8080/"
        }
      },
      "execution_count": null,
      "outputs": [
        {
          "output_type": "stream",
          "name": "stdout",
          "text": [
            "Hola soy un print disfrazado de string\n"
          ]
        }
      ]
    },
    {
      "cell_type": "markdown",
      "source": [
        "# Funciones definidas por el usuario"
      ],
      "metadata": {
        "id": "tHFrmVV8SW15"
      }
    },
    {
      "cell_type": "markdown",
      "source": [
        "### Sin parámetros y sin retornos\n"
      ],
      "metadata": {
        "id": "5n7d7Do5SnKm"
      }
    },
    {
      "cell_type": "code",
      "source": [
        "def saludar():\n",
        "  print(\"Hola\")"
      ],
      "metadata": {
        "id": "KuU0HAH7Sc49"
      },
      "execution_count": null,
      "outputs": []
    },
    {
      "cell_type": "code",
      "source": [
        "saludar()"
      ],
      "metadata": {
        "id": "yOu5xL7WTF5C",
        "outputId": "7d50cbba-9998-4cf6-b86d-50aeb8bebad9",
        "colab": {
          "base_uri": "https://localhost:8080/"
        }
      },
      "execution_count": null,
      "outputs": [
        {
          "output_type": "stream",
          "name": "stdout",
          "text": [
            "Hola\n"
          ]
        }
      ]
    },
    {
      "cell_type": "markdown",
      "source": [
        "### Con parámetros y sin retorno"
      ],
      "metadata": {
        "id": "JUT3O2A1TP_C"
      }
    },
    {
      "cell_type": "code",
      "source": [
        "def bienvenidoProfesor(nombre, cantidad_alumnos):\n",
        "  print(\"Hola\", nombre, \"hoy se han conectado:\", cantidad_alumnos,\"alumnos\")"
      ],
      "metadata": {
        "id": "OcjYfFJzTLx9"
      },
      "execution_count": null,
      "outputs": []
    },
    {
      "cell_type": "code",
      "source": [
        "nombre_profesor = \"Andres\"\n",
        "alumnos_conectados = 10\n",
        "\n",
        "bienvenidoProfesor(nombre_profesor, alumnos_conectados)"
      ],
      "metadata": {
        "id": "7QbR9ioAUS3T",
        "outputId": "436326b0-02da-47c8-c1dd-e388a942c7cb",
        "colab": {
          "base_uri": "https://localhost:8080/"
        }
      },
      "execution_count": null,
      "outputs": [
        {
          "output_type": "stream",
          "name": "stdout",
          "text": [
            "Hola Andres hoy se han conectado: 10 alumnos\n"
          ]
        }
      ]
    },
    {
      "cell_type": "markdown",
      "source": [
        "### Con parámetros y retorno"
      ],
      "metadata": {
        "id": "VI06FVI4UuCi"
      }
    },
    {
      "cell_type": "code",
      "source": [
        "def sumar(a, b):\n",
        "  print(a+b)"
      ],
      "metadata": {
        "id": "5d3M0YeHUrcW"
      },
      "execution_count": null,
      "outputs": []
    },
    {
      "cell_type": "code",
      "source": [
        "numeroA = 2\n",
        "numeroB = 4\n",
        "\n",
        "sumar(numeroA, numeroB)"
      ],
      "metadata": {
        "id": "GDwoekd0VM5R",
        "outputId": "7abd8424-a791-4292-c19c-a299b026d77f",
        "colab": {
          "base_uri": "https://localhost:8080/"
        }
      },
      "execution_count": null,
      "outputs": [
        {
          "output_type": "stream",
          "name": "stdout",
          "text": [
            "6\n"
          ]
        }
      ]
    },
    {
      "cell_type": "code",
      "source": [
        "def sumar(a, b):\n",
        "  return a+b"
      ],
      "metadata": {
        "id": "5lFKqMxYVgLX"
      },
      "execution_count": null,
      "outputs": []
    },
    {
      "cell_type": "code",
      "source": [
        "numeroA = 2\n",
        "numeroB = 4\n",
        "\n",
        "resultado_suma = sumar(numeroA, numeroB)\n",
        "\n",
        "resultado_suma, type(resultado_suma)"
      ],
      "metadata": {
        "id": "c3UPpziEWAHV",
        "outputId": "605d3b42-8708-468f-fbb7-339713da6352",
        "colab": {
          "base_uri": "https://localhost:8080/"
        }
      },
      "execution_count": null,
      "outputs": [
        {
          "output_type": "execute_result",
          "data": {
            "text/plain": [
              "(6, int)"
            ]
          },
          "metadata": {},
          "execution_count": 53
        }
      ]
    },
    {
      "cell_type": "code",
      "source": [],
      "metadata": {
        "id": "e-sHGznsWHc3"
      },
      "execution_count": null,
      "outputs": []
    }
  ]
}